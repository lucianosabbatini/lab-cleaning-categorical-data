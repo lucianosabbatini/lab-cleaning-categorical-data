{
 "cells": [
  {
   "cell_type": "code",
   "execution_count": 1,
   "metadata": {
    "id": "CHzvBpsenw7C"
   },
   "outputs": [],
   "source": [
    "import pandas as pd\n",
    "import seaborn as sns\n",
    "import matplotlib.pyplot as plt\n",
    "import numpy as np"
   ]
  },
  {
   "cell_type": "markdown",
   "metadata": {
    "id": "eWQ7AL9tcXge"
   },
   "source": [
    "# Cleaning categorical data"
   ]
  },
  {
   "cell_type": "code",
   "execution_count": 2,
   "metadata": {
    "id": "yZ0nR9UXnw7I"
   },
   "outputs": [],
   "source": [
    "data = pd.read_csv('HC4A_unit4_ver1.csv')"
   ]
  },
  {
   "cell_type": "code",
   "execution_count": 3,
   "metadata": {
    "id": "3wPHDEbqnw7I",
    "outputId": "a86e5bd7-47e7-43be-e3c3-ef0a5a890041"
   },
   "outputs": [
    {
     "data": {
      "text/plain": [
       "(90569, 29)"
      ]
     },
     "execution_count": 3,
     "metadata": {},
     "output_type": "execute_result"
    }
   ],
   "source": [
    "data.shape"
   ]
  },
  {
   "cell_type": "code",
   "execution_count": 4,
   "metadata": {
    "id": "utxXj1rDdcjd",
    "outputId": "9ff5fe39-3f3a-4575-f9a9-2664223b2089"
   },
   "outputs": [
    {
     "data": {
      "text/plain": [
       "2.0    18040\n",
       "5.0    17076\n",
       "4.0    14677\n",
       "1.0    14437\n",
       "3.0    10318\n",
       "6.0     8216\n",
       "7.0     7805\n",
       "Name: final_income, dtype: int64"
      ]
     },
     "execution_count": 4,
     "metadata": {},
     "output_type": "execute_result"
    }
   ],
   "source": [
    "#watch out for \"fake\" categoricals like INCOME - may need to treat it as a categorical.\n",
    "data['final_income'].value_counts(dropna=False)"
   ]
  },
  {
   "cell_type": "code",
   "execution_count": 5,
   "metadata": {
    "id": "faVGJgl0nw7J",
    "outputId": "9d191b3c-810a-4807-a857-d2c01005b845"
   },
   "outputs": [
    {
     "data": {
      "text/plain": [
       "STATE                   object\n",
       "PVASTATE                object\n",
       "DOB                      int64\n",
       "MDMAUD                  object\n",
       "RECP3                   object\n",
       "GENDER                  object\n",
       "DOMAIN                  object\n",
       "HOMEOWNR                object\n",
       "HV1                      int64\n",
       "HV2                      int64\n",
       "HV3                      int64\n",
       "HV4                      int64\n",
       "IC1                      int64\n",
       "IC2                      int64\n",
       "IC3                      int64\n",
       "IC4                      int64\n",
       "IC5                      int64\n",
       "VETERANS                object\n",
       "NUMPROM                  int64\n",
       "CARDPROM                 int64\n",
       "CARDPM12                 int64\n",
       "NUMPRM12                 int64\n",
       "MAXADATE                 int64\n",
       "RFA_2                   object\n",
       "NGIFTALL                 int64\n",
       "TIMELAG                float64\n",
       "AVGGIFT                float64\n",
       "final_income           float64\n",
       "TIMELAG_transformed    float64\n",
       "dtype: object"
      ]
     },
     "execution_count": 5,
     "metadata": {},
     "output_type": "execute_result"
    }
   ],
   "source": [
    "data.dtypes"
   ]
  },
  {
   "cell_type": "code",
   "execution_count": 6,
   "metadata": {
    "colab": {
     "base_uri": "https://localhost:8080/",
     "height": 204
    },
    "id": "0CSCR5iXclzK",
    "outputId": "74eb4714-0857-4336-b0e8-7d5022b394b8"
   },
   "outputs": [
    {
     "data": {
      "text/html": [
       "<div>\n",
       "<style scoped>\n",
       "    .dataframe tbody tr th:only-of-type {\n",
       "        vertical-align: middle;\n",
       "    }\n",
       "\n",
       "    .dataframe tbody tr th {\n",
       "        vertical-align: top;\n",
       "    }\n",
       "\n",
       "    .dataframe thead th {\n",
       "        text-align: right;\n",
       "    }\n",
       "</style>\n",
       "<table border=\"1\" class=\"dataframe\">\n",
       "  <thead>\n",
       "    <tr style=\"text-align: right;\">\n",
       "      <th></th>\n",
       "      <th>STATE</th>\n",
       "      <th>PVASTATE</th>\n",
       "      <th>MDMAUD</th>\n",
       "      <th>RECP3</th>\n",
       "      <th>GENDER</th>\n",
       "      <th>DOMAIN</th>\n",
       "      <th>HOMEOWNR</th>\n",
       "      <th>VETERANS</th>\n",
       "      <th>RFA_2</th>\n",
       "    </tr>\n",
       "  </thead>\n",
       "  <tbody>\n",
       "    <tr>\n",
       "      <th>0</th>\n",
       "      <td>IL</td>\n",
       "      <td>NaN</td>\n",
       "      <td>XXXX</td>\n",
       "      <td>NaN</td>\n",
       "      <td>F</td>\n",
       "      <td>T2</td>\n",
       "      <td>NaN</td>\n",
       "      <td>NaN</td>\n",
       "      <td>L4E</td>\n",
       "    </tr>\n",
       "    <tr>\n",
       "      <th>1</th>\n",
       "      <td>CA</td>\n",
       "      <td>NaN</td>\n",
       "      <td>XXXX</td>\n",
       "      <td>NaN</td>\n",
       "      <td>M</td>\n",
       "      <td>S1</td>\n",
       "      <td>H</td>\n",
       "      <td>NaN</td>\n",
       "      <td>L2G</td>\n",
       "    </tr>\n",
       "    <tr>\n",
       "      <th>2</th>\n",
       "      <td>NC</td>\n",
       "      <td>NaN</td>\n",
       "      <td>XXXX</td>\n",
       "      <td>NaN</td>\n",
       "      <td>M</td>\n",
       "      <td>R2</td>\n",
       "      <td>U</td>\n",
       "      <td>NaN</td>\n",
       "      <td>L4E</td>\n",
       "    </tr>\n",
       "    <tr>\n",
       "      <th>3</th>\n",
       "      <td>CA</td>\n",
       "      <td>NaN</td>\n",
       "      <td>XXXX</td>\n",
       "      <td>NaN</td>\n",
       "      <td>F</td>\n",
       "      <td>R2</td>\n",
       "      <td>U</td>\n",
       "      <td>NaN</td>\n",
       "      <td>L4E</td>\n",
       "    </tr>\n",
       "    <tr>\n",
       "      <th>4</th>\n",
       "      <td>FL</td>\n",
       "      <td>NaN</td>\n",
       "      <td>XXXX</td>\n",
       "      <td>X</td>\n",
       "      <td>F</td>\n",
       "      <td>S2</td>\n",
       "      <td>H</td>\n",
       "      <td>NaN</td>\n",
       "      <td>L2F</td>\n",
       "    </tr>\n",
       "  </tbody>\n",
       "</table>\n",
       "</div>"
      ],
      "text/plain": [
       "  STATE PVASTATE MDMAUD RECP3 GENDER DOMAIN HOMEOWNR VETERANS RFA_2\n",
       "0    IL      NaN   XXXX   NaN      F     T2      NaN      NaN   L4E\n",
       "1    CA      NaN   XXXX   NaN      M     S1        H      NaN   L2G\n",
       "2    NC      NaN   XXXX   NaN      M     R2        U      NaN   L4E\n",
       "3    CA      NaN   XXXX   NaN      F     R2        U      NaN   L4E\n",
       "4    FL      NaN   XXXX     X      F     S2        H      NaN   L2F"
      ]
     },
     "execution_count": 6,
     "metadata": {},
     "output_type": "execute_result"
    }
   ],
   "source": [
    "categoricals = data.select_dtypes(object)\n",
    "categoricals.head()"
   ]
  },
  {
   "cell_type": "code",
   "execution_count": 7,
   "metadata": {
    "id": "WH9Z3iMmnw7K",
    "outputId": "f213a0e9-7ca1-4656-9359-08791d6cb1ab"
   },
   "outputs": [
    {
     "data": {
      "text/plain": [
       "STATE       0.000000\n",
       "PVASTATE    0.984708\n",
       "MDMAUD      0.000000\n",
       "RECP3       0.979761\n",
       "GENDER      0.030860\n",
       "DOMAIN      0.024026\n",
       "HOMEOWNR    0.232431\n",
       "VETERANS    0.891287\n",
       "RFA_2       0.000000\n",
       "dtype: float64"
      ]
     },
     "execution_count": 7,
     "metadata": {},
     "output_type": "execute_result"
    }
   ],
   "source": [
    "categoricals.isna().sum()/len(categoricals)\n",
    "#data.shape"
   ]
  },
  {
   "cell_type": "code",
   "execution_count": 8,
   "metadata": {
    "colab": {
     "base_uri": "https://localhost:8080/",
     "height": 187
    },
    "id": "5z61zKgfdapo",
    "outputId": "f9038d95-793e-4de1-9d29-0ccd1894e4dd"
   },
   "outputs": [
    {
     "data": {
      "text/plain": [
       "NaN    89184\n",
       "P       1380\n",
       "E          5\n",
       "Name: PVASTATE, dtype: int64"
      ]
     },
     "metadata": {},
     "output_type": "display_data"
    },
    {
     "data": {
      "text/plain": [
       "NaN    88736\n",
       "X       1833\n",
       "Name: RECP3, dtype: int64"
      ]
     },
     "metadata": {},
     "output_type": "display_data"
    },
    {
     "data": {
      "text/plain": [
       "NaN    80723\n",
       "Y       9846\n",
       "Name: VETERANS, dtype: int64"
      ]
     },
     "metadata": {},
     "output_type": "display_data"
    }
   ],
   "source": [
    "display(data['PVASTATE'].value_counts(dropna=False))\n",
    "display(data['RECP3'].value_counts(dropna=False))\n",
    "display(data['VETERANS'].value_counts(dropna=False))"
   ]
  },
  {
   "cell_type": "code",
   "execution_count": 9,
   "metadata": {
    "colab": {
     "base_uri": "https://localhost:8080/",
     "height": 224
    },
    "id": "n-4sT64Cdxbd",
    "outputId": "a285a359-02a4-45b6-99be-dc3030efbcb8"
   },
   "outputs": [
    {
     "data": {
      "text/html": [
       "<div>\n",
       "<style scoped>\n",
       "    .dataframe tbody tr th:only-of-type {\n",
       "        vertical-align: middle;\n",
       "    }\n",
       "\n",
       "    .dataframe tbody tr th {\n",
       "        vertical-align: top;\n",
       "    }\n",
       "\n",
       "    .dataframe thead th {\n",
       "        text-align: right;\n",
       "    }\n",
       "</style>\n",
       "<table border=\"1\" class=\"dataframe\">\n",
       "  <thead>\n",
       "    <tr style=\"text-align: right;\">\n",
       "      <th></th>\n",
       "      <th>STATE</th>\n",
       "      <th>PVASTATE</th>\n",
       "      <th>DOB</th>\n",
       "      <th>MDMAUD</th>\n",
       "      <th>RECP3</th>\n",
       "      <th>GENDER</th>\n",
       "      <th>DOMAIN</th>\n",
       "      <th>HOMEOWNR</th>\n",
       "      <th>HV1</th>\n",
       "      <th>HV2</th>\n",
       "      <th>...</th>\n",
       "      <th>CARDPROM</th>\n",
       "      <th>CARDPM12</th>\n",
       "      <th>NUMPRM12</th>\n",
       "      <th>MAXADATE</th>\n",
       "      <th>RFA_2</th>\n",
       "      <th>NGIFTALL</th>\n",
       "      <th>TIMELAG</th>\n",
       "      <th>AVGGIFT</th>\n",
       "      <th>final_income</th>\n",
       "      <th>TIMELAG_transformed</th>\n",
       "    </tr>\n",
       "  </thead>\n",
       "  <tbody>\n",
       "    <tr>\n",
       "      <th>0</th>\n",
       "      <td>IL</td>\n",
       "      <td>N</td>\n",
       "      <td>3712</td>\n",
       "      <td>XXXX</td>\n",
       "      <td>N</td>\n",
       "      <td>F</td>\n",
       "      <td>T2</td>\n",
       "      <td>NaN</td>\n",
       "      <td>479</td>\n",
       "      <td>635</td>\n",
       "      <td>...</td>\n",
       "      <td>27</td>\n",
       "      <td>6</td>\n",
       "      <td>14</td>\n",
       "      <td>9702</td>\n",
       "      <td>L4E</td>\n",
       "      <td>31</td>\n",
       "      <td>4.0</td>\n",
       "      <td>7.741935</td>\n",
       "      <td>4.0</td>\n",
       "      <td>1.386294</td>\n",
       "    </tr>\n",
       "    <tr>\n",
       "      <th>1</th>\n",
       "      <td>CA</td>\n",
       "      <td>N</td>\n",
       "      <td>5202</td>\n",
       "      <td>XXXX</td>\n",
       "      <td>N</td>\n",
       "      <td>M</td>\n",
       "      <td>S1</td>\n",
       "      <td>H</td>\n",
       "      <td>5468</td>\n",
       "      <td>5218</td>\n",
       "      <td>...</td>\n",
       "      <td>12</td>\n",
       "      <td>6</td>\n",
       "      <td>13</td>\n",
       "      <td>9702</td>\n",
       "      <td>L2G</td>\n",
       "      <td>3</td>\n",
       "      <td>18.0</td>\n",
       "      <td>15.666667</td>\n",
       "      <td>6.0</td>\n",
       "      <td>2.890372</td>\n",
       "    </tr>\n",
       "    <tr>\n",
       "      <th>2</th>\n",
       "      <td>NC</td>\n",
       "      <td>N</td>\n",
       "      <td>0</td>\n",
       "      <td>XXXX</td>\n",
       "      <td>N</td>\n",
       "      <td>M</td>\n",
       "      <td>R2</td>\n",
       "      <td>U</td>\n",
       "      <td>497</td>\n",
       "      <td>546</td>\n",
       "      <td>...</td>\n",
       "      <td>26</td>\n",
       "      <td>6</td>\n",
       "      <td>14</td>\n",
       "      <td>9702</td>\n",
       "      <td>L4E</td>\n",
       "      <td>27</td>\n",
       "      <td>12.0</td>\n",
       "      <td>7.481481</td>\n",
       "      <td>3.0</td>\n",
       "      <td>2.484907</td>\n",
       "    </tr>\n",
       "    <tr>\n",
       "      <th>3</th>\n",
       "      <td>CA</td>\n",
       "      <td>N</td>\n",
       "      <td>2801</td>\n",
       "      <td>XXXX</td>\n",
       "      <td>N</td>\n",
       "      <td>F</td>\n",
       "      <td>R2</td>\n",
       "      <td>U</td>\n",
       "      <td>1000</td>\n",
       "      <td>1263</td>\n",
       "      <td>...</td>\n",
       "      <td>27</td>\n",
       "      <td>6</td>\n",
       "      <td>14</td>\n",
       "      <td>9702</td>\n",
       "      <td>L4E</td>\n",
       "      <td>16</td>\n",
       "      <td>9.0</td>\n",
       "      <td>6.812500</td>\n",
       "      <td>1.0</td>\n",
       "      <td>2.197225</td>\n",
       "    </tr>\n",
       "    <tr>\n",
       "      <th>4</th>\n",
       "      <td>FL</td>\n",
       "      <td>N</td>\n",
       "      <td>2001</td>\n",
       "      <td>XXXX</td>\n",
       "      <td>X</td>\n",
       "      <td>F</td>\n",
       "      <td>S2</td>\n",
       "      <td>H</td>\n",
       "      <td>576</td>\n",
       "      <td>594</td>\n",
       "      <td>...</td>\n",
       "      <td>43</td>\n",
       "      <td>10</td>\n",
       "      <td>25</td>\n",
       "      <td>9702</td>\n",
       "      <td>L2F</td>\n",
       "      <td>37</td>\n",
       "      <td>14.0</td>\n",
       "      <td>6.864865</td>\n",
       "      <td>3.0</td>\n",
       "      <td>2.639057</td>\n",
       "    </tr>\n",
       "  </tbody>\n",
       "</table>\n",
       "<p>5 rows × 29 columns</p>\n",
       "</div>"
      ],
      "text/plain": [
       "  STATE PVASTATE   DOB MDMAUD RECP3 GENDER DOMAIN HOMEOWNR   HV1   HV2  ...  \\\n",
       "0    IL        N  3712   XXXX     N      F     T2      NaN   479   635  ...   \n",
       "1    CA        N  5202   XXXX     N      M     S1        H  5468  5218  ...   \n",
       "2    NC        N     0   XXXX     N      M     R2        U   497   546  ...   \n",
       "3    CA        N  2801   XXXX     N      F     R2        U  1000  1263  ...   \n",
       "4    FL        N  2001   XXXX     X      F     S2        H   576   594  ...   \n",
       "\n",
       "   CARDPROM  CARDPM12  NUMPRM12  MAXADATE  RFA_2  NGIFTALL  TIMELAG  \\\n",
       "0        27         6        14      9702    L4E        31      4.0   \n",
       "1        12         6        13      9702    L2G         3     18.0   \n",
       "2        26         6        14      9702    L4E        27     12.0   \n",
       "3        27         6        14      9702    L4E        16      9.0   \n",
       "4        43        10        25      9702    L2F        37     14.0   \n",
       "\n",
       "     AVGGIFT  final_income  TIMELAG_transformed  \n",
       "0   7.741935           4.0             1.386294  \n",
       "1  15.666667           6.0             2.890372  \n",
       "2   7.481481           3.0             2.484907  \n",
       "3   6.812500           1.0             2.197225  \n",
       "4   6.864865           3.0             2.639057  \n",
       "\n",
       "[5 rows x 29 columns]"
      ]
     },
     "execution_count": 9,
     "metadata": {},
     "output_type": "execute_result"
    }
   ],
   "source": [
    "#data = data.drop(columns=['PVASTATE'], axis=1)\n",
    "data['PVASTATE'] = data['PVASTATE'].fillna('N')\n",
    "data['RECP3'] = data['RECP3'].fillna('N')\n",
    "data['VETERANS'] = data['VETERANS'].fillna('N')\n",
    "data.head()"
   ]
  },
  {
   "cell_type": "code",
   "execution_count": null,
   "metadata": {
    "id": "-_5yE1BJg7G-"
   },
   "outputs": [],
   "source": [
    "#Activity 1 - We are substituting for C4 because on the City code there are 4 categories and here is showing only 3."
   ]
  },
  {
   "cell_type": "code",
   "execution_count": 11,
   "metadata": {},
   "outputs": [
    {
     "data": {
      "text/plain": [
       "R2     13006\n",
       "T2     11717\n",
       "S1     10866\n",
       "S2      8054\n",
       "C2      7834\n",
       "C1      5793\n",
       "C3      5056\n",
       "T1      4712\n",
       "R3      4572\n",
       "U1      4259\n",
       "U2      3111\n",
       "U3      2484\n",
       "NaN     2176\n",
       "T3      2092\n",
       "S3      1817\n",
       "U4      1735\n",
       "R1      1285\n",
       "Name: DOMAIN, dtype: int64"
      ]
     },
     "execution_count": 11,
     "metadata": {},
     "output_type": "execute_result"
    }
   ],
   "source": [
    "data.DOMAIN.value_counts(dropna=False)"
   ]
  },
  {
   "cell_type": "code",
   "execution_count": 18,
   "metadata": {},
   "outputs": [],
   "source": [
    "data['DOMAIN'] = data['DOMAIN'].fillna('C4')"
   ]
  },
  {
   "cell_type": "code",
   "execution_count": 17,
   "metadata": {},
   "outputs": [
    {
     "data": {
      "text/plain": [
       "'R2'"
      ]
     },
     "execution_count": 17,
     "metadata": {},
     "output_type": "execute_result"
    }
   ],
   "source": [
    "#most_frequent = data['DOMAIN'].mode().values[0]\n",
    "#most_frequent\n"
   ]
  },
  {
   "cell_type": "code",
   "execution_count": null,
   "metadata": {},
   "outputs": [],
   "source": [
    "#data['DOMAIN'] = data['DOMAIN'].fillna(most_frequent)"
   ]
  },
  {
   "cell_type": "code",
   "execution_count": 19,
   "metadata": {
    "scrolled": false
   },
   "outputs": [
    {
     "data": {
      "text/plain": [
       "R2    13006\n",
       "T2    11717\n",
       "S1    10866\n",
       "S2     8054\n",
       "C2     7834\n",
       "C1     5793\n",
       "C3     5056\n",
       "T1     4712\n",
       "R3     4572\n",
       "U1     4259\n",
       "U2     3111\n",
       "U3     2484\n",
       "C4     2176\n",
       "T3     2092\n",
       "S3     1817\n",
       "U4     1735\n",
       "R1     1285\n",
       "Name: DOMAIN, dtype: int64"
      ]
     },
     "execution_count": 19,
     "metadata": {},
     "output_type": "execute_result"
    }
   ],
   "source": [
    "data.DOMAIN.value_counts(dropna=False)"
   ]
  },
  {
   "cell_type": "markdown",
   "metadata": {},
   "source": [
    "### End of activity 1"
   ]
  },
  {
   "cell_type": "code",
   "execution_count": 10,
   "metadata": {},
   "outputs": [],
   "source": [
    "pd.set_option('display.max_columns', None)"
   ]
  },
  {
   "cell_type": "code",
   "execution_count": 20,
   "metadata": {
    "id": "1ZYfXro1nw7N",
    "outputId": "f309f605-529b-4aa4-c146-05f9afb1dcd1",
    "scrolled": true
   },
   "outputs": [
    {
     "data": {
      "text/plain": [
       "F      48668\n",
       "M      37132\n",
       "NaN     2795\n",
       "U       1635\n",
       "J        336\n",
       "C          2\n",
       "A          1\n",
       "Name: GENDER, dtype: int64"
      ]
     },
     "execution_count": 20,
     "metadata": {},
     "output_type": "execute_result"
    }
   ],
   "source": [
    "data.GENDER.value_counts(dropna=False)"
   ]
  },
  {
   "cell_type": "markdown",
   "metadata": {},
   "source": [
    "# checking where the null values of a column are in the dataframe so we try to see any pattern"
   ]
  },
  {
   "cell_type": "code",
   "execution_count": null,
   "metadata": {
    "id": "RGF7KBpanw7N",
    "outputId": "384923c1-ccd0-4331-a1b5-391c3fd346e2"
   },
   "outputs": [
    {
     "data": {
      "text/html": [
       "<div>\n",
       "<style scoped>\n",
       "    .dataframe tbody tr th:only-of-type {\n",
       "        vertical-align: middle;\n",
       "    }\n",
       "\n",
       "    .dataframe tbody tr th {\n",
       "        vertical-align: top;\n",
       "    }\n",
       "\n",
       "    .dataframe thead th {\n",
       "        text-align: right;\n",
       "    }\n",
       "</style>\n",
       "<table border=\"1\" class=\"dataframe\">\n",
       "  <thead>\n",
       "    <tr style=\"text-align: right;\">\n",
       "      <th></th>\n",
       "      <th>STATE</th>\n",
       "      <th>PVASTATE</th>\n",
       "      <th>DOB</th>\n",
       "      <th>MDMAUD</th>\n",
       "      <th>RECP3</th>\n",
       "      <th>GENDER</th>\n",
       "      <th>DOMAIN</th>\n",
       "      <th>HOMEOWNR</th>\n",
       "      <th>HV1</th>\n",
       "      <th>HV2</th>\n",
       "      <th>...</th>\n",
       "      <th>CARDPROM</th>\n",
       "      <th>CARDPM12</th>\n",
       "      <th>NUMPRM12</th>\n",
       "      <th>MAXADATE</th>\n",
       "      <th>RFA_2</th>\n",
       "      <th>NGIFTALL</th>\n",
       "      <th>TIMELAG</th>\n",
       "      <th>AVGGIFT</th>\n",
       "      <th>final_income</th>\n",
       "      <th>TIMELAG_transformed</th>\n",
       "    </tr>\n",
       "  </thead>\n",
       "  <tbody>\n",
       "    <tr>\n",
       "      <th>89713</th>\n",
       "      <td>GA</td>\n",
       "      <td>N</td>\n",
       "      <td>0</td>\n",
       "      <td>XXXX</td>\n",
       "      <td>N</td>\n",
       "      <td>NaN</td>\n",
       "      <td>C3</td>\n",
       "      <td>NaN</td>\n",
       "      <td>473</td>\n",
       "      <td>476</td>\n",
       "      <td>...</td>\n",
       "      <td>6</td>\n",
       "      <td>4</td>\n",
       "      <td>10</td>\n",
       "      <td>9702</td>\n",
       "      <td>L1F</td>\n",
       "      <td>1</td>\n",
       "      <td>NaN</td>\n",
       "      <td>20.000000</td>\n",
       "      <td>3.0</td>\n",
       "      <td>1.826874</td>\n",
       "    </tr>\n",
       "    <tr>\n",
       "      <th>89741</th>\n",
       "      <td>OR</td>\n",
       "      <td>N</td>\n",
       "      <td>0</td>\n",
       "      <td>XXXX</td>\n",
       "      <td>N</td>\n",
       "      <td>NaN</td>\n",
       "      <td>R1</td>\n",
       "      <td>NaN</td>\n",
       "      <td>867</td>\n",
       "      <td>963</td>\n",
       "      <td>...</td>\n",
       "      <td>35</td>\n",
       "      <td>6</td>\n",
       "      <td>16</td>\n",
       "      <td>9702</td>\n",
       "      <td>L3F</td>\n",
       "      <td>36</td>\n",
       "      <td>6.0</td>\n",
       "      <td>9.555556</td>\n",
       "      <td>2.0</td>\n",
       "      <td>1.791759</td>\n",
       "    </tr>\n",
       "    <tr>\n",
       "      <th>89783</th>\n",
       "      <td>WA</td>\n",
       "      <td>N</td>\n",
       "      <td>0</td>\n",
       "      <td>XXXX</td>\n",
       "      <td>N</td>\n",
       "      <td>NaN</td>\n",
       "      <td>C2</td>\n",
       "      <td>NaN</td>\n",
       "      <td>849</td>\n",
       "      <td>918</td>\n",
       "      <td>...</td>\n",
       "      <td>10</td>\n",
       "      <td>6</td>\n",
       "      <td>12</td>\n",
       "      <td>9702</td>\n",
       "      <td>L3E</td>\n",
       "      <td>4</td>\n",
       "      <td>5.0</td>\n",
       "      <td>7.250000</td>\n",
       "      <td>3.0</td>\n",
       "      <td>1.609438</td>\n",
       "    </tr>\n",
       "    <tr>\n",
       "      <th>89784</th>\n",
       "      <td>OR</td>\n",
       "      <td>N</td>\n",
       "      <td>0</td>\n",
       "      <td>XXXX</td>\n",
       "      <td>N</td>\n",
       "      <td>NaN</td>\n",
       "      <td>U2</td>\n",
       "      <td>NaN</td>\n",
       "      <td>751</td>\n",
       "      <td>781</td>\n",
       "      <td>...</td>\n",
       "      <td>9</td>\n",
       "      <td>6</td>\n",
       "      <td>12</td>\n",
       "      <td>9702</td>\n",
       "      <td>L2G</td>\n",
       "      <td>2</td>\n",
       "      <td>6.0</td>\n",
       "      <td>17.500000</td>\n",
       "      <td>4.0</td>\n",
       "      <td>1.791759</td>\n",
       "    </tr>\n",
       "    <tr>\n",
       "      <th>89789</th>\n",
       "      <td>FL</td>\n",
       "      <td>N</td>\n",
       "      <td>0</td>\n",
       "      <td>XXXX</td>\n",
       "      <td>N</td>\n",
       "      <td>NaN</td>\n",
       "      <td>U2</td>\n",
       "      <td>NaN</td>\n",
       "      <td>1613</td>\n",
       "      <td>2137</td>\n",
       "      <td>...</td>\n",
       "      <td>4</td>\n",
       "      <td>2</td>\n",
       "      <td>6</td>\n",
       "      <td>9702</td>\n",
       "      <td>L2F</td>\n",
       "      <td>2</td>\n",
       "      <td>3.0</td>\n",
       "      <td>10.000000</td>\n",
       "      <td>2.0</td>\n",
       "      <td>1.098612</td>\n",
       "    </tr>\n",
       "    <tr>\n",
       "      <th>89809</th>\n",
       "      <td>CA</td>\n",
       "      <td>N</td>\n",
       "      <td>0</td>\n",
       "      <td>XXXX</td>\n",
       "      <td>N</td>\n",
       "      <td>NaN</td>\n",
       "      <td>T1</td>\n",
       "      <td>NaN</td>\n",
       "      <td>2483</td>\n",
       "      <td>2937</td>\n",
       "      <td>...</td>\n",
       "      <td>8</td>\n",
       "      <td>3</td>\n",
       "      <td>9</td>\n",
       "      <td>9702</td>\n",
       "      <td>L1F</td>\n",
       "      <td>2</td>\n",
       "      <td>17.0</td>\n",
       "      <td>15.000000</td>\n",
       "      <td>2.0</td>\n",
       "      <td>2.833213</td>\n",
       "    </tr>\n",
       "    <tr>\n",
       "      <th>89877</th>\n",
       "      <td>AL</td>\n",
       "      <td>N</td>\n",
       "      <td>3101</td>\n",
       "      <td>XXXX</td>\n",
       "      <td>X</td>\n",
       "      <td>NaN</td>\n",
       "      <td>C4</td>\n",
       "      <td>NaN</td>\n",
       "      <td>822</td>\n",
       "      <td>873</td>\n",
       "      <td>...</td>\n",
       "      <td>5</td>\n",
       "      <td>3</td>\n",
       "      <td>8</td>\n",
       "      <td>9702</td>\n",
       "      <td>L1F</td>\n",
       "      <td>1</td>\n",
       "      <td>NaN</td>\n",
       "      <td>15.000000</td>\n",
       "      <td>1.0</td>\n",
       "      <td>1.826874</td>\n",
       "    </tr>\n",
       "    <tr>\n",
       "      <th>89892</th>\n",
       "      <td>IL</td>\n",
       "      <td>N</td>\n",
       "      <td>0</td>\n",
       "      <td>XXXX</td>\n",
       "      <td>N</td>\n",
       "      <td>NaN</td>\n",
       "      <td>R3</td>\n",
       "      <td>NaN</td>\n",
       "      <td>309</td>\n",
       "      <td>369</td>\n",
       "      <td>...</td>\n",
       "      <td>14</td>\n",
       "      <td>6</td>\n",
       "      <td>12</td>\n",
       "      <td>9702</td>\n",
       "      <td>L1F</td>\n",
       "      <td>3</td>\n",
       "      <td>12.0</td>\n",
       "      <td>15.000000</td>\n",
       "      <td>2.0</td>\n",
       "      <td>2.484907</td>\n",
       "    </tr>\n",
       "    <tr>\n",
       "      <th>89917</th>\n",
       "      <td>WI</td>\n",
       "      <td>N</td>\n",
       "      <td>0</td>\n",
       "      <td>XXXX</td>\n",
       "      <td>N</td>\n",
       "      <td>NaN</td>\n",
       "      <td>C2</td>\n",
       "      <td>NaN</td>\n",
       "      <td>555</td>\n",
       "      <td>601</td>\n",
       "      <td>...</td>\n",
       "      <td>21</td>\n",
       "      <td>6</td>\n",
       "      <td>12</td>\n",
       "      <td>9702</td>\n",
       "      <td>L4D</td>\n",
       "      <td>12</td>\n",
       "      <td>3.0</td>\n",
       "      <td>5.416667</td>\n",
       "      <td>1.0</td>\n",
       "      <td>1.098612</td>\n",
       "    </tr>\n",
       "    <tr>\n",
       "      <th>90043</th>\n",
       "      <td>CA</td>\n",
       "      <td>N</td>\n",
       "      <td>0</td>\n",
       "      <td>XXXX</td>\n",
       "      <td>N</td>\n",
       "      <td>NaN</td>\n",
       "      <td>U1</td>\n",
       "      <td>NaN</td>\n",
       "      <td>2139</td>\n",
       "      <td>2149</td>\n",
       "      <td>...</td>\n",
       "      <td>3</td>\n",
       "      <td>2</td>\n",
       "      <td>4</td>\n",
       "      <td>9612</td>\n",
       "      <td>L1F</td>\n",
       "      <td>1</td>\n",
       "      <td>NaN</td>\n",
       "      <td>20.000000</td>\n",
       "      <td>1.0</td>\n",
       "      <td>1.826874</td>\n",
       "    </tr>\n",
       "    <tr>\n",
       "      <th>90053</th>\n",
       "      <td>WI</td>\n",
       "      <td>N</td>\n",
       "      <td>5102</td>\n",
       "      <td>XXXX</td>\n",
       "      <td>N</td>\n",
       "      <td>NaN</td>\n",
       "      <td>T2</td>\n",
       "      <td>NaN</td>\n",
       "      <td>614</td>\n",
       "      <td>663</td>\n",
       "      <td>...</td>\n",
       "      <td>30</td>\n",
       "      <td>6</td>\n",
       "      <td>15</td>\n",
       "      <td>9702</td>\n",
       "      <td>L3F</td>\n",
       "      <td>13</td>\n",
       "      <td>7.0</td>\n",
       "      <td>10.692308</td>\n",
       "      <td>5.0</td>\n",
       "      <td>1.945910</td>\n",
       "    </tr>\n",
       "    <tr>\n",
       "      <th>90079</th>\n",
       "      <td>MI</td>\n",
       "      <td>N</td>\n",
       "      <td>0</td>\n",
       "      <td>XXXX</td>\n",
       "      <td>N</td>\n",
       "      <td>NaN</td>\n",
       "      <td>R2</td>\n",
       "      <td>NaN</td>\n",
       "      <td>772</td>\n",
       "      <td>961</td>\n",
       "      <td>...</td>\n",
       "      <td>27</td>\n",
       "      <td>6</td>\n",
       "      <td>15</td>\n",
       "      <td>9702</td>\n",
       "      <td>L4D</td>\n",
       "      <td>32</td>\n",
       "      <td>4.0</td>\n",
       "      <td>5.843750</td>\n",
       "      <td>2.0</td>\n",
       "      <td>1.386294</td>\n",
       "    </tr>\n",
       "    <tr>\n",
       "      <th>90081</th>\n",
       "      <td>CA</td>\n",
       "      <td>N</td>\n",
       "      <td>0</td>\n",
       "      <td>XXXX</td>\n",
       "      <td>N</td>\n",
       "      <td>NaN</td>\n",
       "      <td>U2</td>\n",
       "      <td>NaN</td>\n",
       "      <td>2530</td>\n",
       "      <td>2508</td>\n",
       "      <td>...</td>\n",
       "      <td>25</td>\n",
       "      <td>6</td>\n",
       "      <td>13</td>\n",
       "      <td>9702</td>\n",
       "      <td>L1F</td>\n",
       "      <td>9</td>\n",
       "      <td>10.0</td>\n",
       "      <td>10.555556</td>\n",
       "      <td>5.0</td>\n",
       "      <td>2.302585</td>\n",
       "    </tr>\n",
       "    <tr>\n",
       "      <th>90108</th>\n",
       "      <td>TX</td>\n",
       "      <td>N</td>\n",
       "      <td>2801</td>\n",
       "      <td>XXXX</td>\n",
       "      <td>N</td>\n",
       "      <td>NaN</td>\n",
       "      <td>R2</td>\n",
       "      <td>NaN</td>\n",
       "      <td>781</td>\n",
       "      <td>895</td>\n",
       "      <td>...</td>\n",
       "      <td>5</td>\n",
       "      <td>4</td>\n",
       "      <td>11</td>\n",
       "      <td>9702</td>\n",
       "      <td>L1F</td>\n",
       "      <td>1</td>\n",
       "      <td>NaN</td>\n",
       "      <td>15.000000</td>\n",
       "      <td>2.0</td>\n",
       "      <td>1.826874</td>\n",
       "    </tr>\n",
       "    <tr>\n",
       "      <th>90125</th>\n",
       "      <td>NC</td>\n",
       "      <td>N</td>\n",
       "      <td>0</td>\n",
       "      <td>XXXX</td>\n",
       "      <td>N</td>\n",
       "      <td>NaN</td>\n",
       "      <td>C3</td>\n",
       "      <td>NaN</td>\n",
       "      <td>1067</td>\n",
       "      <td>1196</td>\n",
       "      <td>...</td>\n",
       "      <td>20</td>\n",
       "      <td>6</td>\n",
       "      <td>14</td>\n",
       "      <td>9702</td>\n",
       "      <td>L4E</td>\n",
       "      <td>11</td>\n",
       "      <td>1.0</td>\n",
       "      <td>8.272727</td>\n",
       "      <td>5.0</td>\n",
       "      <td>0.000000</td>\n",
       "    </tr>\n",
       "    <tr>\n",
       "      <th>90135</th>\n",
       "      <td>IL</td>\n",
       "      <td>N</td>\n",
       "      <td>2502</td>\n",
       "      <td>XXXX</td>\n",
       "      <td>N</td>\n",
       "      <td>NaN</td>\n",
       "      <td>U4</td>\n",
       "      <td>NaN</td>\n",
       "      <td>450</td>\n",
       "      <td>737</td>\n",
       "      <td>...</td>\n",
       "      <td>22</td>\n",
       "      <td>4</td>\n",
       "      <td>8</td>\n",
       "      <td>9702</td>\n",
       "      <td>L3E</td>\n",
       "      <td>16</td>\n",
       "      <td>9.0</td>\n",
       "      <td>7.500000</td>\n",
       "      <td>2.0</td>\n",
       "      <td>2.197225</td>\n",
       "    </tr>\n",
       "    <tr>\n",
       "      <th>90152</th>\n",
       "      <td>MO</td>\n",
       "      <td>N</td>\n",
       "      <td>0</td>\n",
       "      <td>XXXX</td>\n",
       "      <td>N</td>\n",
       "      <td>NaN</td>\n",
       "      <td>R2</td>\n",
       "      <td>NaN</td>\n",
       "      <td>576</td>\n",
       "      <td>628</td>\n",
       "      <td>...</td>\n",
       "      <td>22</td>\n",
       "      <td>5</td>\n",
       "      <td>13</td>\n",
       "      <td>9702</td>\n",
       "      <td>L2E</td>\n",
       "      <td>14</td>\n",
       "      <td>6.0</td>\n",
       "      <td>7.142857</td>\n",
       "      <td>2.0</td>\n",
       "      <td>1.791759</td>\n",
       "    </tr>\n",
       "    <tr>\n",
       "      <th>90181</th>\n",
       "      <td>CA</td>\n",
       "      <td>N</td>\n",
       "      <td>6005</td>\n",
       "      <td>XXXX</td>\n",
       "      <td>N</td>\n",
       "      <td>NaN</td>\n",
       "      <td>C1</td>\n",
       "      <td>NaN</td>\n",
       "      <td>1834</td>\n",
       "      <td>2192</td>\n",
       "      <td>...</td>\n",
       "      <td>34</td>\n",
       "      <td>6</td>\n",
       "      <td>15</td>\n",
       "      <td>9702</td>\n",
       "      <td>L4G</td>\n",
       "      <td>20</td>\n",
       "      <td>11.0</td>\n",
       "      <td>24.750000</td>\n",
       "      <td>6.0</td>\n",
       "      <td>2.397895</td>\n",
       "    </tr>\n",
       "    <tr>\n",
       "      <th>90205</th>\n",
       "      <td>AR</td>\n",
       "      <td>N</td>\n",
       "      <td>3401</td>\n",
       "      <td>XXXX</td>\n",
       "      <td>N</td>\n",
       "      <td>NaN</td>\n",
       "      <td>R3</td>\n",
       "      <td>NaN</td>\n",
       "      <td>293</td>\n",
       "      <td>335</td>\n",
       "      <td>...</td>\n",
       "      <td>24</td>\n",
       "      <td>5</td>\n",
       "      <td>12</td>\n",
       "      <td>9702</td>\n",
       "      <td>L2F</td>\n",
       "      <td>8</td>\n",
       "      <td>5.0</td>\n",
       "      <td>16.000000</td>\n",
       "      <td>2.0</td>\n",
       "      <td>1.609438</td>\n",
       "    </tr>\n",
       "    <tr>\n",
       "      <th>90231</th>\n",
       "      <td>CA</td>\n",
       "      <td>N</td>\n",
       "      <td>2306</td>\n",
       "      <td>XXXX</td>\n",
       "      <td>N</td>\n",
       "      <td>NaN</td>\n",
       "      <td>U1</td>\n",
       "      <td>NaN</td>\n",
       "      <td>2596</td>\n",
       "      <td>2638</td>\n",
       "      <td>...</td>\n",
       "      <td>25</td>\n",
       "      <td>6</td>\n",
       "      <td>14</td>\n",
       "      <td>9702</td>\n",
       "      <td>L3F</td>\n",
       "      <td>10</td>\n",
       "      <td>33.0</td>\n",
       "      <td>20.300000</td>\n",
       "      <td>2.0</td>\n",
       "      <td>3.496508</td>\n",
       "    </tr>\n",
       "    <tr>\n",
       "      <th>90237</th>\n",
       "      <td>TX</td>\n",
       "      <td>N</td>\n",
       "      <td>3509</td>\n",
       "      <td>XXXX</td>\n",
       "      <td>N</td>\n",
       "      <td>NaN</td>\n",
       "      <td>C2</td>\n",
       "      <td>NaN</td>\n",
       "      <td>418</td>\n",
       "      <td>459</td>\n",
       "      <td>...</td>\n",
       "      <td>29</td>\n",
       "      <td>6</td>\n",
       "      <td>13</td>\n",
       "      <td>9702</td>\n",
       "      <td>L2E</td>\n",
       "      <td>14</td>\n",
       "      <td>7.0</td>\n",
       "      <td>6.785714</td>\n",
       "      <td>2.0</td>\n",
       "      <td>1.945910</td>\n",
       "    </tr>\n",
       "    <tr>\n",
       "      <th>90356</th>\n",
       "      <td>MI</td>\n",
       "      <td>N</td>\n",
       "      <td>0</td>\n",
       "      <td>XXXX</td>\n",
       "      <td>N</td>\n",
       "      <td>NaN</td>\n",
       "      <td>C2</td>\n",
       "      <td>NaN</td>\n",
       "      <td>710</td>\n",
       "      <td>748</td>\n",
       "      <td>...</td>\n",
       "      <td>21</td>\n",
       "      <td>4</td>\n",
       "      <td>9</td>\n",
       "      <td>9702</td>\n",
       "      <td>L1F</td>\n",
       "      <td>6</td>\n",
       "      <td>13.0</td>\n",
       "      <td>12.500000</td>\n",
       "      <td>1.0</td>\n",
       "      <td>2.564949</td>\n",
       "    </tr>\n",
       "    <tr>\n",
       "      <th>90365</th>\n",
       "      <td>MI</td>\n",
       "      <td>N</td>\n",
       "      <td>604</td>\n",
       "      <td>XXXX</td>\n",
       "      <td>N</td>\n",
       "      <td>NaN</td>\n",
       "      <td>S2</td>\n",
       "      <td>NaN</td>\n",
       "      <td>0</td>\n",
       "      <td>0</td>\n",
       "      <td>...</td>\n",
       "      <td>26</td>\n",
       "      <td>6</td>\n",
       "      <td>13</td>\n",
       "      <td>9702</td>\n",
       "      <td>L1G</td>\n",
       "      <td>7</td>\n",
       "      <td>13.0</td>\n",
       "      <td>21.142857</td>\n",
       "      <td>1.0</td>\n",
       "      <td>2.564949</td>\n",
       "    </tr>\n",
       "    <tr>\n",
       "      <th>90375</th>\n",
       "      <td>IL</td>\n",
       "      <td>N</td>\n",
       "      <td>0</td>\n",
       "      <td>XXXX</td>\n",
       "      <td>N</td>\n",
       "      <td>NaN</td>\n",
       "      <td>C2</td>\n",
       "      <td>NaN</td>\n",
       "      <td>963</td>\n",
       "      <td>993</td>\n",
       "      <td>...</td>\n",
       "      <td>33</td>\n",
       "      <td>5</td>\n",
       "      <td>13</td>\n",
       "      <td>9702</td>\n",
       "      <td>L4D</td>\n",
       "      <td>36</td>\n",
       "      <td>9.0</td>\n",
       "      <td>2.277778</td>\n",
       "      <td>1.0</td>\n",
       "      <td>2.197225</td>\n",
       "    </tr>\n",
       "    <tr>\n",
       "      <th>90414</th>\n",
       "      <td>CA</td>\n",
       "      <td>N</td>\n",
       "      <td>0</td>\n",
       "      <td>XXXX</td>\n",
       "      <td>N</td>\n",
       "      <td>NaN</td>\n",
       "      <td>U4</td>\n",
       "      <td>NaN</td>\n",
       "      <td>604</td>\n",
       "      <td>623</td>\n",
       "      <td>...</td>\n",
       "      <td>17</td>\n",
       "      <td>4</td>\n",
       "      <td>13</td>\n",
       "      <td>9702</td>\n",
       "      <td>L1F</td>\n",
       "      <td>5</td>\n",
       "      <td>1.0</td>\n",
       "      <td>12.200000</td>\n",
       "      <td>1.0</td>\n",
       "      <td>0.000000</td>\n",
       "    </tr>\n",
       "    <tr>\n",
       "      <th>90436</th>\n",
       "      <td>OR</td>\n",
       "      <td>N</td>\n",
       "      <td>3501</td>\n",
       "      <td>XXXX</td>\n",
       "      <td>N</td>\n",
       "      <td>NaN</td>\n",
       "      <td>S2</td>\n",
       "      <td>NaN</td>\n",
       "      <td>1199</td>\n",
       "      <td>1240</td>\n",
       "      <td>...</td>\n",
       "      <td>4</td>\n",
       "      <td>3</td>\n",
       "      <td>8</td>\n",
       "      <td>9702</td>\n",
       "      <td>L1G</td>\n",
       "      <td>1</td>\n",
       "      <td>NaN</td>\n",
       "      <td>25.000000</td>\n",
       "      <td>2.0</td>\n",
       "      <td>1.826874</td>\n",
       "    </tr>\n",
       "    <tr>\n",
       "      <th>90480</th>\n",
       "      <td>SC</td>\n",
       "      <td>N</td>\n",
       "      <td>0</td>\n",
       "      <td>XXXX</td>\n",
       "      <td>X</td>\n",
       "      <td>NaN</td>\n",
       "      <td>C4</td>\n",
       "      <td>NaN</td>\n",
       "      <td>1000</td>\n",
       "      <td>1080</td>\n",
       "      <td>...</td>\n",
       "      <td>22</td>\n",
       "      <td>11</td>\n",
       "      <td>26</td>\n",
       "      <td>9702</td>\n",
       "      <td>L2F</td>\n",
       "      <td>8</td>\n",
       "      <td>3.0</td>\n",
       "      <td>9.250000</td>\n",
       "      <td>1.0</td>\n",
       "      <td>1.098612</td>\n",
       "    </tr>\n",
       "    <tr>\n",
       "      <th>90518</th>\n",
       "      <td>SC</td>\n",
       "      <td>N</td>\n",
       "      <td>0</td>\n",
       "      <td>XXXX</td>\n",
       "      <td>N</td>\n",
       "      <td>NaN</td>\n",
       "      <td>C3</td>\n",
       "      <td>NaN</td>\n",
       "      <td>370</td>\n",
       "      <td>404</td>\n",
       "      <td>...</td>\n",
       "      <td>27</td>\n",
       "      <td>5</td>\n",
       "      <td>12</td>\n",
       "      <td>9702</td>\n",
       "      <td>L1E</td>\n",
       "      <td>21</td>\n",
       "      <td>10.0</td>\n",
       "      <td>5.190476</td>\n",
       "      <td>1.0</td>\n",
       "      <td>2.302585</td>\n",
       "    </tr>\n",
       "    <tr>\n",
       "      <th>90545</th>\n",
       "      <td>IL</td>\n",
       "      <td>N</td>\n",
       "      <td>0</td>\n",
       "      <td>XXXX</td>\n",
       "      <td>N</td>\n",
       "      <td>NaN</td>\n",
       "      <td>U3</td>\n",
       "      <td>NaN</td>\n",
       "      <td>660</td>\n",
       "      <td>662</td>\n",
       "      <td>...</td>\n",
       "      <td>11</td>\n",
       "      <td>4</td>\n",
       "      <td>9</td>\n",
       "      <td>9702</td>\n",
       "      <td>L1F</td>\n",
       "      <td>2</td>\n",
       "      <td>11.0</td>\n",
       "      <td>10.000000</td>\n",
       "      <td>1.0</td>\n",
       "      <td>2.397895</td>\n",
       "    </tr>\n",
       "    <tr>\n",
       "      <th>90546</th>\n",
       "      <td>CA</td>\n",
       "      <td>N</td>\n",
       "      <td>5101</td>\n",
       "      <td>XXXX</td>\n",
       "      <td>N</td>\n",
       "      <td>NaN</td>\n",
       "      <td>S1</td>\n",
       "      <td>NaN</td>\n",
       "      <td>2605</td>\n",
       "      <td>2522</td>\n",
       "      <td>...</td>\n",
       "      <td>27</td>\n",
       "      <td>6</td>\n",
       "      <td>13</td>\n",
       "      <td>9702</td>\n",
       "      <td>L1G</td>\n",
       "      <td>7</td>\n",
       "      <td>34.0</td>\n",
       "      <td>25.000000</td>\n",
       "      <td>7.0</td>\n",
       "      <td>3.526361</td>\n",
       "    </tr>\n",
       "  </tbody>\n",
       "</table>\n",
       "<p>30 rows × 29 columns</p>\n",
       "</div>"
      ],
      "text/plain": [
       "      STATE PVASTATE   DOB MDMAUD RECP3 GENDER DOMAIN HOMEOWNR   HV1   HV2  \\\n",
       "89713    GA        N     0   XXXX     N    NaN     C3      NaN   473   476   \n",
       "89741    OR        N     0   XXXX     N    NaN     R1      NaN   867   963   \n",
       "89783    WA        N     0   XXXX     N    NaN     C2      NaN   849   918   \n",
       "89784    OR        N     0   XXXX     N    NaN     U2      NaN   751   781   \n",
       "89789    FL        N     0   XXXX     N    NaN     U2      NaN  1613  2137   \n",
       "89809    CA        N     0   XXXX     N    NaN     T1      NaN  2483  2937   \n",
       "89877    AL        N  3101   XXXX     X    NaN     C4      NaN   822   873   \n",
       "89892    IL        N     0   XXXX     N    NaN     R3      NaN   309   369   \n",
       "89917    WI        N     0   XXXX     N    NaN     C2      NaN   555   601   \n",
       "90043    CA        N     0   XXXX     N    NaN     U1      NaN  2139  2149   \n",
       "90053    WI        N  5102   XXXX     N    NaN     T2      NaN   614   663   \n",
       "90079    MI        N     0   XXXX     N    NaN     R2      NaN   772   961   \n",
       "90081    CA        N     0   XXXX     N    NaN     U2      NaN  2530  2508   \n",
       "90108    TX        N  2801   XXXX     N    NaN     R2      NaN   781   895   \n",
       "90125    NC        N     0   XXXX     N    NaN     C3      NaN  1067  1196   \n",
       "90135    IL        N  2502   XXXX     N    NaN     U4      NaN   450   737   \n",
       "90152    MO        N     0   XXXX     N    NaN     R2      NaN   576   628   \n",
       "90181    CA        N  6005   XXXX     N    NaN     C1      NaN  1834  2192   \n",
       "90205    AR        N  3401   XXXX     N    NaN     R3      NaN   293   335   \n",
       "90231    CA        N  2306   XXXX     N    NaN     U1      NaN  2596  2638   \n",
       "90237    TX        N  3509   XXXX     N    NaN     C2      NaN   418   459   \n",
       "90356    MI        N     0   XXXX     N    NaN     C2      NaN   710   748   \n",
       "90365    MI        N   604   XXXX     N    NaN     S2      NaN     0     0   \n",
       "90375    IL        N     0   XXXX     N    NaN     C2      NaN   963   993   \n",
       "90414    CA        N     0   XXXX     N    NaN     U4      NaN   604   623   \n",
       "90436    OR        N  3501   XXXX     N    NaN     S2      NaN  1199  1240   \n",
       "90480    SC        N     0   XXXX     X    NaN     C4      NaN  1000  1080   \n",
       "90518    SC        N     0   XXXX     N    NaN     C3      NaN   370   404   \n",
       "90545    IL        N     0   XXXX     N    NaN     U3      NaN   660   662   \n",
       "90546    CA        N  5101   XXXX     N    NaN     S1      NaN  2605  2522   \n",
       "\n",
       "       ...  CARDPROM  CARDPM12  NUMPRM12  MAXADATE  RFA_2  NGIFTALL  TIMELAG  \\\n",
       "89713  ...         6         4        10      9702    L1F         1      NaN   \n",
       "89741  ...        35         6        16      9702    L3F        36      6.0   \n",
       "89783  ...        10         6        12      9702    L3E         4      5.0   \n",
       "89784  ...         9         6        12      9702    L2G         2      6.0   \n",
       "89789  ...         4         2         6      9702    L2F         2      3.0   \n",
       "89809  ...         8         3         9      9702    L1F         2     17.0   \n",
       "89877  ...         5         3         8      9702    L1F         1      NaN   \n",
       "89892  ...        14         6        12      9702    L1F         3     12.0   \n",
       "89917  ...        21         6        12      9702    L4D        12      3.0   \n",
       "90043  ...         3         2         4      9612    L1F         1      NaN   \n",
       "90053  ...        30         6        15      9702    L3F        13      7.0   \n",
       "90079  ...        27         6        15      9702    L4D        32      4.0   \n",
       "90081  ...        25         6        13      9702    L1F         9     10.0   \n",
       "90108  ...         5         4        11      9702    L1F         1      NaN   \n",
       "90125  ...        20         6        14      9702    L4E        11      1.0   \n",
       "90135  ...        22         4         8      9702    L3E        16      9.0   \n",
       "90152  ...        22         5        13      9702    L2E        14      6.0   \n",
       "90181  ...        34         6        15      9702    L4G        20     11.0   \n",
       "90205  ...        24         5        12      9702    L2F         8      5.0   \n",
       "90231  ...        25         6        14      9702    L3F        10     33.0   \n",
       "90237  ...        29         6        13      9702    L2E        14      7.0   \n",
       "90356  ...        21         4         9      9702    L1F         6     13.0   \n",
       "90365  ...        26         6        13      9702    L1G         7     13.0   \n",
       "90375  ...        33         5        13      9702    L4D        36      9.0   \n",
       "90414  ...        17         4        13      9702    L1F         5      1.0   \n",
       "90436  ...         4         3         8      9702    L1G         1      NaN   \n",
       "90480  ...        22        11        26      9702    L2F         8      3.0   \n",
       "90518  ...        27         5        12      9702    L1E        21     10.0   \n",
       "90545  ...        11         4         9      9702    L1F         2     11.0   \n",
       "90546  ...        27         6        13      9702    L1G         7     34.0   \n",
       "\n",
       "         AVGGIFT  final_income  TIMELAG_transformed  \n",
       "89713  20.000000           3.0             1.826874  \n",
       "89741   9.555556           2.0             1.791759  \n",
       "89783   7.250000           3.0             1.609438  \n",
       "89784  17.500000           4.0             1.791759  \n",
       "89789  10.000000           2.0             1.098612  \n",
       "89809  15.000000           2.0             2.833213  \n",
       "89877  15.000000           1.0             1.826874  \n",
       "89892  15.000000           2.0             2.484907  \n",
       "89917   5.416667           1.0             1.098612  \n",
       "90043  20.000000           1.0             1.826874  \n",
       "90053  10.692308           5.0             1.945910  \n",
       "90079   5.843750           2.0             1.386294  \n",
       "90081  10.555556           5.0             2.302585  \n",
       "90108  15.000000           2.0             1.826874  \n",
       "90125   8.272727           5.0             0.000000  \n",
       "90135   7.500000           2.0             2.197225  \n",
       "90152   7.142857           2.0             1.791759  \n",
       "90181  24.750000           6.0             2.397895  \n",
       "90205  16.000000           2.0             1.609438  \n",
       "90231  20.300000           2.0             3.496508  \n",
       "90237   6.785714           2.0             1.945910  \n",
       "90356  12.500000           1.0             2.564949  \n",
       "90365  21.142857           1.0             2.564949  \n",
       "90375   2.277778           1.0             2.197225  \n",
       "90414  12.200000           1.0             0.000000  \n",
       "90436  25.000000           2.0             1.826874  \n",
       "90480   9.250000           1.0             1.098612  \n",
       "90518   5.190476           1.0             2.302585  \n",
       "90545  10.000000           1.0             2.397895  \n",
       "90546  25.000000           7.0             3.526361  \n",
       "\n",
       "[30 rows x 29 columns]"
      ]
     },
     "execution_count": 19,
     "metadata": {},
     "output_type": "execute_result"
    }
   ],
   "source": [
    "data[data['GENDER'].isnull()]   "
   ]
  },
  {
   "cell_type": "code",
   "execution_count": 21,
   "metadata": {
    "id": "jqQak5Cgnw7N",
    "outputId": "d47e45f4-a4ea-4425-a2cf-06870aa77104"
   },
   "outputs": [
    {
     "data": {
      "text/plain": [
       "F    48668\n",
       "M    37132\n",
       "U     4769\n",
       "Name: GENDER, dtype: int64"
      ]
     },
     "execution_count": 21,
     "metadata": {},
     "output_type": "execute_result"
    }
   ],
   "source": [
    "#data = data[~data['GENDER'].isnull()] to drop the rows? We may want to accept that people don't want to specify their gender as M or F\n",
    "data['GENDER'] = data['GENDER'].fillna('U')\n",
    "data['GENDER'] = np.where(data['GENDER'].isin(['J','C','A']) , 'U', data['GENDER'])\n",
    "data['GENDER'].value_counts()"
   ]
  },
  {
   "cell_type": "code",
   "execution_count": null,
   "metadata": {
    "colab": {
     "base_uri": "https://localhost:8080/",
     "height": 279
    },
    "id": "hOOmiKCio3IL",
    "outputId": "92135a8c-b9bf-4ad8-b898-ef1f34a340b4"
   },
   "outputs": [
    {
     "data": {
      "image/png": "[encoded data removed]",
      "text/plain": [
       "<Figure size 432x288 with 1 Axes>"
      ]
     },
     "metadata": {
      "needs_background": "light"
     },
     "output_type": "display_data"
    }
   ],
   "source": [
    "sns.boxplot(x=\"GENDER\", y=\"AVGGIFT\", data=data)\n",
    "plt.show()"
   ]
  },
  {
   "cell_type": "code",
   "execution_count": null,
   "metadata": {
    "id": "aPv6PzMWnw7O",
    "outputId": "6f7a431d-f3b6-4dd3-be82-72d01b909d89"
   },
   "outputs": [
    {
     "data": {
      "text/html": [
       "<div>\n",
       "<style scoped>\n",
       "    .dataframe tbody tr th:only-of-type {\n",
       "        vertical-align: middle;\n",
       "    }\n",
       "\n",
       "    .dataframe tbody tr th {\n",
       "        vertical-align: top;\n",
       "    }\n",
       "\n",
       "    .dataframe thead th {\n",
       "        text-align: right;\n",
       "    }\n",
       "</style>\n",
       "<table border=\"1\" class=\"dataframe\">\n",
       "  <thead>\n",
       "    <tr style=\"text-align: right;\">\n",
       "      <th></th>\n",
       "      <th>AVGGIFT</th>\n",
       "    </tr>\n",
       "    <tr>\n",
       "      <th>GENDER</th>\n",
       "      <th></th>\n",
       "    </tr>\n",
       "  </thead>\n",
       "  <tbody>\n",
       "    <tr>\n",
       "      <th>F</th>\n",
       "      <td>13.012336</td>\n",
       "    </tr>\n",
       "    <tr>\n",
       "      <th>M</th>\n",
       "      <td>13.970821</td>\n",
       "    </tr>\n",
       "    <tr>\n",
       "      <th>U</th>\n",
       "      <td>13.454532</td>\n",
       "    </tr>\n",
       "  </tbody>\n",
       "</table>\n",
       "</div>"
      ],
      "text/plain": [
       "          AVGGIFT\n",
       "GENDER           \n",
       "F       13.012336\n",
       "M       13.970821\n",
       "U       13.454532"
      ]
     },
     "execution_count": 22,
     "metadata": {},
     "output_type": "execute_result"
    }
   ],
   "source": [
    "data.groupby('GENDER').agg({'AVGGIFT':np.mean})"
   ]
  },
  {
   "cell_type": "code",
   "execution_count": 22,
   "metadata": {
    "colab": {
     "base_uri": "https://localhost:8080/"
    },
    "id": "oBPW1iZdpVca",
    "outputId": "df980e02-ab2f-4f81-95ab-32ef57569a96",
    "scrolled": true
   },
   "outputs": [
    {
     "data": {
      "text/plain": [
       "CA    16284\n",
       "FL     7959\n",
       "TX     7166\n",
       "IL     6124\n",
       "MI     5375\n",
       "NC     3956\n",
       "WA     3383\n",
       "GA     3261\n",
       "IN     2855\n",
       "WI     2656\n",
       "MO     2583\n",
       "TN     2396\n",
       "AZ     2278\n",
       "MN     2081\n",
       "OR     2045\n",
       "CO     1929\n",
       "SC     1660\n",
       "AL     1627\n",
       "OK     1553\n",
       "KY     1542\n",
       "LA     1533\n",
       "KS     1233\n",
       "IA     1214\n",
       "AR      969\n",
       "MS      948\n",
       "NV      923\n",
       "NM      824\n",
       "NE      715\n",
       "UT      546\n",
       "ID      504\n",
       "MT      498\n",
       "HI      423\n",
       "SD      278\n",
       "AK      275\n",
       "WY      267\n",
       "ND      241\n",
       "AP       78\n",
       "NY       70\n",
       "VA       54\n",
       "OH       52\n",
       "PA       36\n",
       "MD       30\n",
       "MA       25\n",
       "NJ       24\n",
       "CT       20\n",
       "AA       15\n",
       "AE       14\n",
       "ME       11\n",
       "NH        8\n",
       "RI        6\n",
       "VT        6\n",
       "VI        5\n",
       "WV        3\n",
       "GU        3\n",
       "DE        3\n",
       "AS        1\n",
       "DC        1\n",
       "Name: STATE, dtype: int64"
      ]
     },
     "execution_count": 22,
     "metadata": {},
     "output_type": "execute_result"
    }
   ],
   "source": [
    "count_states = data['STATE'].value_counts(dropna=False)\n",
    "count_states"
   ]
  },
  {
   "cell_type": "code",
   "execution_count": 23,
   "metadata": {
    "colab": {
     "base_uri": "https://localhost:8080/"
    },
    "id": "ttTImCxWp-CL",
    "outputId": "d590b8fa-8a13-4a3e-f264-cc13bfcbf5ec"
   },
   "outputs": [
    {
     "data": {
      "text/plain": [
       "TN    2396\n",
       "AZ    2278\n",
       "MN    2081\n",
       "OR    2045\n",
       "CO    1929\n",
       "SC    1660\n",
       "AL    1627\n",
       "OK    1553\n",
       "KY    1542\n",
       "LA    1533\n",
       "KS    1233\n",
       "IA    1214\n",
       "AR     969\n",
       "MS     948\n",
       "NV     923\n",
       "NM     824\n",
       "NE     715\n",
       "UT     546\n",
       "ID     504\n",
       "MT     498\n",
       "HI     423\n",
       "SD     278\n",
       "AK     275\n",
       "WY     267\n",
       "ND     241\n",
       "AP      78\n",
       "NY      70\n",
       "VA      54\n",
       "OH      52\n",
       "PA      36\n",
       "MD      30\n",
       "MA      25\n",
       "NJ      24\n",
       "CT      20\n",
       "AA      15\n",
       "AE      14\n",
       "ME      11\n",
       "NH       8\n",
       "RI       6\n",
       "VT       6\n",
       "VI       5\n",
       "WV       3\n",
       "GU       3\n",
       "DE       3\n",
       "AS       1\n",
       "DC       1\n",
       "Name: STATE, dtype: int64"
      ]
     },
     "execution_count": 23,
     "metadata": {},
     "output_type": "execute_result"
    }
   ],
   "source": [
    "count_states[count_states < 2500] # will leave us with 11 states and 'other'"
   ]
  },
  {
   "cell_type": "code",
   "execution_count": 25,
   "metadata": {
    "colab": {
     "base_uri": "https://localhost:8080/"
    },
    "id": "C40NgwEUp1Cb",
    "outputId": "958b6714-569b-41b8-e62b-58302514dd68"
   },
   "outputs": [
    {
     "data": {
      "text/plain": [
       "['TN',\n",
       " 'AZ',\n",
       " 'MN',\n",
       " 'OR',\n",
       " 'CO',\n",
       " 'SC',\n",
       " 'AL',\n",
       " 'OK',\n",
       " 'KY',\n",
       " 'LA',\n",
       " 'KS',\n",
       " 'IA',\n",
       " 'AR',\n",
       " 'MS',\n",
       " 'NV',\n",
       " 'NM',\n",
       " 'NE',\n",
       " 'UT',\n",
       " 'ID',\n",
       " 'MT',\n",
       " 'HI',\n",
       " 'SD',\n",
       " 'AK',\n",
       " 'WY',\n",
       " 'ND',\n",
       " 'AP',\n",
       " 'NY',\n",
       " 'VA',\n",
       " 'OH',\n",
       " 'PA',\n",
       " 'MD',\n",
       " 'MA',\n",
       " 'NJ',\n",
       " 'CT',\n",
       " 'AA',\n",
       " 'AE',\n",
       " 'ME',\n",
       " 'NH',\n",
       " 'RI',\n",
       " 'VT',\n",
       " 'VI',\n",
       " 'WV',\n",
       " 'GU',\n",
       " 'DE',\n",
       " 'AS',\n",
       " 'DC']"
      ]
     },
     "execution_count": 25,
     "metadata": {},
     "output_type": "execute_result"
    }
   ],
   "source": [
    "small_states = list(count_states[count_states < 2500].index)\n",
    "small_states"
   ]
  },
  {
   "cell_type": "code",
   "execution_count": 26,
   "metadata": {
    "id": "RVTyVh7rnw7P"
   },
   "outputs": [],
   "source": [
    "data['STATE'] = np.where(data.STATE.isin(small_states),'other', data.STATE)"
   ]
  },
  {
   "cell_type": "code",
   "execution_count": 27,
   "metadata": {
    "id": "mU5Kp9H-nw7P",
    "outputId": "c00ed7f9-bbcb-434c-b0a1-393dbfe05007"
   },
   "outputs": [
    {
     "data": {
      "text/plain": [
       "other    28967\n",
       "CA       16284\n",
       "FL        7959\n",
       "TX        7166\n",
       "IL        6124\n",
       "MI        5375\n",
       "NC        3956\n",
       "WA        3383\n",
       "GA        3261\n",
       "IN        2855\n",
       "WI        2656\n",
       "MO        2583\n",
       "Name: STATE, dtype: int64"
      ]
     },
     "execution_count": 27,
     "metadata": {},
     "output_type": "execute_result"
    }
   ],
   "source": [
    "data.STATE.value_counts(dropna=False)"
   ]
  },
  {
   "cell_type": "code",
   "execution_count": null,
   "metadata": {
    "id": "JN9dyUlgqLkQ"
   },
   "outputs": [],
   "source": [
    "# def clean_state(x):\n",
    "#     if x in small_states:\n",
    "#         return 'other'\n",
    "#     else:\n",
    "#         return x\n",
    "\n",
    "# data['STATE'] = data['STATE'].apply(clean_state)\n",
    "\n",
    "# data['STATE'] = np.where(data['STATE']isin(small_state), 'other', data['STATE'])"
   ]
  },
  {
   "cell_type": "markdown",
   "metadata": {},
   "source": [
    "## Activity 2"
   ]
  },
  {
   "cell_type": "code",
   "execution_count": null,
   "metadata": {
    "colab": {
     "base_uri": "https://localhost:8080/",
     "height": 439
    },
    "id": "voWtD-RCqXJG",
    "outputId": "bb9e6d9f-d537-4437-a8bd-b808d3b61823",
    "scrolled": true
   },
   "outputs": [
    {
     "data": {
      "text/plain": [
       "XXXX    90290\n",
       "C1CM       59\n",
       "L1CM       44\n",
       "I1CM       34\n",
       "D2CM       27\n",
       "C2CM       23\n",
       "D1CM       19\n",
       "L2CM       14\n",
       "C1LM        8\n",
       "L1LM        8\n",
       "I2CM        7\n",
       "D5CM        5\n",
       "D5MM        5\n",
       "D2MM        4\n",
       "D5TM        3\n",
       "I1LM        3\n",
       "C5CM        3\n",
       "C2MM        3\n",
       "C2LM        2\n",
       "C5TM        1\n",
       "C5MM        1\n",
       "L1MM        1\n",
       "L2TM        1\n",
       "I5MM        1\n",
       "I5CM        1\n",
       "C1MM        1\n",
       "I2MM        1\n",
       "Name: MDMAUD, dtype: int64"
      ]
     },
     "execution_count": 28,
     "metadata": {},
     "output_type": "execute_result"
    }
   ],
   "source": [
    "data['MDMAUD'].value_counts(dropna=False)"
   ]
  },
  {
   "cell_type": "code",
   "execution_count": 31,
   "metadata": {},
   "outputs": [],
   "source": [
    "count_MD = data['MDMAUD'].value_counts(dropna=False)"
   ]
  },
  {
   "cell_type": "code",
   "execution_count": 33,
   "metadata": {},
   "outputs": [],
   "source": [
    "other=list(count_MD[count_MD < 100].index)"
   ]
  },
  {
   "cell_type": "code",
   "execution_count": 35,
   "metadata": {},
   "outputs": [],
   "source": [
    "data['MDMAUD'] = np.where(data['MDMAUD'].isin(other), 'other', data['MDMAUD'])"
   ]
  },
  {
   "cell_type": "code",
   "execution_count": 37,
   "metadata": {
    "scrolled": false
   },
   "outputs": [
    {
     "data": {
      "text/plain": [
       "XXXX     90290\n",
       "other      279\n",
       "Name: MDMAUD, dtype: int64"
      ]
     },
     "execution_count": 37,
     "metadata": {},
     "output_type": "execute_result"
    }
   ],
   "source": [
    "data['MDMAUD'].value_counts(dropna=False)"
   ]
  },
  {
   "cell_type": "markdown",
   "metadata": {},
   "source": [
    "## IT COULD BE SIMPLER"
   ]
  },
  {
   "cell_type": "code",
   "execution_count": null,
   "metadata": {},
   "outputs": [],
   "source": [
    "# data['MDMAUD'] = np.where(data['MDMAUD'] != 'XXXX', 'other', data['MDMAUD'])\n",
    "# data['MDMAUD'] = np.where(data['MDMAUD'] == 'XXXX', 'XXXX', 'other')"
   ]
  },
  {
   "cell_type": "code",
   "execution_count": null,
   "metadata": {
    "id": "705uKejRnw7Q",
    "outputId": "5a2ff7db-0fa4-4e2f-b175-6e8af365549f"
   },
   "outputs": [
    {
     "data": {
      "text/plain": [
       "STATE                      0\n",
       "PVASTATE                   0\n",
       "DOB                        0\n",
       "MDMAUD                     0\n",
       "RECP3                      0\n",
       "GENDER                     0\n",
       "DOMAIN                     0\n",
       "HOMEOWNR               21051\n",
       "HV1                        0\n",
       "HV2                        0\n",
       "HV3                        0\n",
       "HV4                        0\n",
       "IC1                        0\n",
       "IC2                        0\n",
       "IC3                        0\n",
       "IC4                        0\n",
       "IC5                        0\n",
       "VETERANS                   0\n",
       "NUMPROM                    0\n",
       "CARDPROM                   0\n",
       "CARDPM12                   0\n",
       "NUMPRM12                   0\n",
       "MAXADATE                   0\n",
       "RFA_2                      0\n",
       "NGIFTALL                   0\n",
       "TIMELAG                 9653\n",
       "AVGGIFT                    0\n",
       "final_income               0\n",
       "TIMELAG_transformed        0\n",
       "dtype: int64"
      ]
     },
     "execution_count": 31,
     "metadata": {},
     "output_type": "execute_result"
    }
   ],
   "source": [
    "data.isna().sum()"
   ]
  },
  {
   "cell_type": "code",
   "execution_count": 38,
   "metadata": {
    "id": "tvjVZXSfnw7Q",
    "outputId": "ee185f17-52f7-41e7-bd04-c94e30101207"
   },
   "outputs": [
    {
     "data": {
      "text/html": [
       "<div>\n",
       "<style scoped>\n",
       "    .dataframe tbody tr th:only-of-type {\n",
       "        vertical-align: middle;\n",
       "    }\n",
       "\n",
       "    .dataframe tbody tr th {\n",
       "        vertical-align: top;\n",
       "    }\n",
       "\n",
       "    .dataframe thead th {\n",
       "        text-align: right;\n",
       "    }\n",
       "</style>\n",
       "<table border=\"1\" class=\"dataframe\">\n",
       "  <thead>\n",
       "    <tr style=\"text-align: right;\">\n",
       "      <th></th>\n",
       "      <th>DOB</th>\n",
       "      <th>HV1</th>\n",
       "      <th>HV2</th>\n",
       "      <th>HV3</th>\n",
       "      <th>HV4</th>\n",
       "      <th>IC1</th>\n",
       "      <th>IC2</th>\n",
       "      <th>IC3</th>\n",
       "      <th>IC4</th>\n",
       "      <th>IC5</th>\n",
       "      <th>NUMPROM</th>\n",
       "      <th>CARDPROM</th>\n",
       "      <th>CARDPM12</th>\n",
       "      <th>NUMPRM12</th>\n",
       "      <th>MAXADATE</th>\n",
       "      <th>NGIFTALL</th>\n",
       "      <th>TIMELAG</th>\n",
       "      <th>AVGGIFT</th>\n",
       "      <th>final_income</th>\n",
       "      <th>TIMELAG_transformed</th>\n",
       "    </tr>\n",
       "  </thead>\n",
       "  <tbody>\n",
       "    <tr>\n",
       "      <th>0</th>\n",
       "      <td>3712</td>\n",
       "      <td>479</td>\n",
       "      <td>635</td>\n",
       "      <td>3</td>\n",
       "      <td>2</td>\n",
       "      <td>307</td>\n",
       "      <td>318</td>\n",
       "      <td>349</td>\n",
       "      <td>378</td>\n",
       "      <td>12883</td>\n",
       "      <td>74</td>\n",
       "      <td>27</td>\n",
       "      <td>6</td>\n",
       "      <td>14</td>\n",
       "      <td>9702</td>\n",
       "      <td>31</td>\n",
       "      <td>4.0</td>\n",
       "      <td>7.741935</td>\n",
       "      <td>4.0</td>\n",
       "      <td>1.386294</td>\n",
       "    </tr>\n",
       "    <tr>\n",
       "      <th>1</th>\n",
       "      <td>5202</td>\n",
       "      <td>5468</td>\n",
       "      <td>5218</td>\n",
       "      <td>12</td>\n",
       "      <td>10</td>\n",
       "      <td>1088</td>\n",
       "      <td>1096</td>\n",
       "      <td>1026</td>\n",
       "      <td>1037</td>\n",
       "      <td>36175</td>\n",
       "      <td>32</td>\n",
       "      <td>12</td>\n",
       "      <td>6</td>\n",
       "      <td>13</td>\n",
       "      <td>9702</td>\n",
       "      <td>3</td>\n",
       "      <td>18.0</td>\n",
       "      <td>15.666667</td>\n",
       "      <td>6.0</td>\n",
       "      <td>2.890372</td>\n",
       "    </tr>\n",
       "    <tr>\n",
       "      <th>2</th>\n",
       "      <td>0</td>\n",
       "      <td>497</td>\n",
       "      <td>546</td>\n",
       "      <td>2</td>\n",
       "      <td>1</td>\n",
       "      <td>251</td>\n",
       "      <td>292</td>\n",
       "      <td>292</td>\n",
       "      <td>340</td>\n",
       "      <td>11576</td>\n",
       "      <td>63</td>\n",
       "      <td>26</td>\n",
       "      <td>6</td>\n",
       "      <td>14</td>\n",
       "      <td>9702</td>\n",
       "      <td>27</td>\n",
       "      <td>12.0</td>\n",
       "      <td>7.481481</td>\n",
       "      <td>3.0</td>\n",
       "      <td>2.484907</td>\n",
       "    </tr>\n",
       "    <tr>\n",
       "      <th>3</th>\n",
       "      <td>2801</td>\n",
       "      <td>1000</td>\n",
       "      <td>1263</td>\n",
       "      <td>2</td>\n",
       "      <td>1</td>\n",
       "      <td>386</td>\n",
       "      <td>388</td>\n",
       "      <td>396</td>\n",
       "      <td>423</td>\n",
       "      <td>15130</td>\n",
       "      <td>66</td>\n",
       "      <td>27</td>\n",
       "      <td>6</td>\n",
       "      <td>14</td>\n",
       "      <td>9702</td>\n",
       "      <td>16</td>\n",
       "      <td>9.0</td>\n",
       "      <td>6.812500</td>\n",
       "      <td>1.0</td>\n",
       "      <td>2.197225</td>\n",
       "    </tr>\n",
       "    <tr>\n",
       "      <th>4</th>\n",
       "      <td>2001</td>\n",
       "      <td>576</td>\n",
       "      <td>594</td>\n",
       "      <td>4</td>\n",
       "      <td>3</td>\n",
       "      <td>240</td>\n",
       "      <td>250</td>\n",
       "      <td>293</td>\n",
       "      <td>321</td>\n",
       "      <td>9836</td>\n",
       "      <td>113</td>\n",
       "      <td>43</td>\n",
       "      <td>10</td>\n",
       "      <td>25</td>\n",
       "      <td>9702</td>\n",
       "      <td>37</td>\n",
       "      <td>14.0</td>\n",
       "      <td>6.864865</td>\n",
       "      <td>3.0</td>\n",
       "      <td>2.639057</td>\n",
       "    </tr>\n",
       "  </tbody>\n",
       "</table>\n",
       "</div>"
      ],
      "text/plain": [
       "    DOB   HV1   HV2  HV3  HV4   IC1   IC2   IC3   IC4    IC5  NUMPROM  \\\n",
       "0  3712   479   635    3    2   307   318   349   378  12883       74   \n",
       "1  5202  5468  5218   12   10  1088  1096  1026  1037  36175       32   \n",
       "2     0   497   546    2    1   251   292   292   340  11576       63   \n",
       "3  2801  1000  1263    2    1   386   388   396   423  15130       66   \n",
       "4  2001   576   594    4    3   240   250   293   321   9836      113   \n",
       "\n",
       "   CARDPROM  CARDPM12  NUMPRM12  MAXADATE  NGIFTALL  TIMELAG    AVGGIFT  \\\n",
       "0        27         6        14      9702        31      4.0   7.741935   \n",
       "1        12         6        13      9702         3     18.0  15.666667   \n",
       "2        26         6        14      9702        27     12.0   7.481481   \n",
       "3        27         6        14      9702        16      9.0   6.812500   \n",
       "4        43        10        25      9702        37     14.0   6.864865   \n",
       "\n",
       "   final_income  TIMELAG_transformed  \n",
       "0           4.0             1.386294  \n",
       "1           6.0             2.890372  \n",
       "2           3.0             2.484907  \n",
       "3           1.0             2.197225  \n",
       "4           3.0             2.639057  "
      ]
     },
     "execution_count": 38,
     "metadata": {},
     "output_type": "execute_result"
    }
   ],
   "source": [
    "# someties it makes sense to turn a numerical variable into a categorical one: binning\n",
    "numericals = data.select_dtypes(np.number)\n",
    "numericals.head()"
   ]
  },
  {
   "cell_type": "code",
   "execution_count": 39,
   "metadata": {
    "colab": {
     "base_uri": "https://localhost:8080/",
     "height": 224
    },
    "id": "VuZk2CLBrK3k",
    "outputId": "0f874b42-e786-485a-e932-a5f94e20e016"
   },
   "outputs": [
    {
     "data": {
      "text/html": [
       "<div>\n",
       "<style scoped>\n",
       "    .dataframe tbody tr th:only-of-type {\n",
       "        vertical-align: middle;\n",
       "    }\n",
       "\n",
       "    .dataframe tbody tr th {\n",
       "        vertical-align: top;\n",
       "    }\n",
       "\n",
       "    .dataframe thead th {\n",
       "        text-align: right;\n",
       "    }\n",
       "</style>\n",
       "<table border=\"1\" class=\"dataframe\">\n",
       "  <thead>\n",
       "    <tr style=\"text-align: right;\">\n",
       "      <th></th>\n",
       "      <th>IC2</th>\n",
       "      <th>ic2_category</th>\n",
       "    </tr>\n",
       "  </thead>\n",
       "  <tbody>\n",
       "    <tr>\n",
       "      <th>0</th>\n",
       "      <td>318</td>\n",
       "      <td>Low</td>\n",
       "    </tr>\n",
       "    <tr>\n",
       "      <th>1</th>\n",
       "      <td>1096</td>\n",
       "      <td>High</td>\n",
       "    </tr>\n",
       "    <tr>\n",
       "      <th>2</th>\n",
       "      <td>292</td>\n",
       "      <td>Low</td>\n",
       "    </tr>\n",
       "    <tr>\n",
       "      <th>3</th>\n",
       "      <td>388</td>\n",
       "      <td>Moderate</td>\n",
       "    </tr>\n",
       "    <tr>\n",
       "      <th>4</th>\n",
       "      <td>250</td>\n",
       "      <td>Low</td>\n",
       "    </tr>\n",
       "    <tr>\n",
       "      <th>5</th>\n",
       "      <td>410</td>\n",
       "      <td>Moderate</td>\n",
       "    </tr>\n",
       "    <tr>\n",
       "      <th>6</th>\n",
       "      <td>284</td>\n",
       "      <td>Low</td>\n",
       "    </tr>\n",
       "    <tr>\n",
       "      <th>7</th>\n",
       "      <td>457</td>\n",
       "      <td>Moderate</td>\n",
       "    </tr>\n",
       "    <tr>\n",
       "      <th>8</th>\n",
       "      <td>266</td>\n",
       "      <td>Low</td>\n",
       "    </tr>\n",
       "    <tr>\n",
       "      <th>9</th>\n",
       "      <td>329</td>\n",
       "      <td>Low</td>\n",
       "    </tr>\n",
       "    <tr>\n",
       "      <th>10</th>\n",
       "      <td>222</td>\n",
       "      <td>Low</td>\n",
       "    </tr>\n",
       "    <tr>\n",
       "      <th>11</th>\n",
       "      <td>346</td>\n",
       "      <td>Low</td>\n",
       "    </tr>\n",
       "    <tr>\n",
       "      <th>12</th>\n",
       "      <td>267</td>\n",
       "      <td>Low</td>\n",
       "    </tr>\n",
       "    <tr>\n",
       "      <th>13</th>\n",
       "      <td>335</td>\n",
       "      <td>Low</td>\n",
       "    </tr>\n",
       "    <tr>\n",
       "      <th>14</th>\n",
       "      <td>373</td>\n",
       "      <td>Low</td>\n",
       "    </tr>\n",
       "    <tr>\n",
       "      <th>15</th>\n",
       "      <td>806</td>\n",
       "      <td>High</td>\n",
       "    </tr>\n",
       "    <tr>\n",
       "      <th>16</th>\n",
       "      <td>385</td>\n",
       "      <td>Moderate</td>\n",
       "    </tr>\n",
       "    <tr>\n",
       "      <th>17</th>\n",
       "      <td>283</td>\n",
       "      <td>Low</td>\n",
       "    </tr>\n",
       "    <tr>\n",
       "      <th>18</th>\n",
       "      <td>288</td>\n",
       "      <td>Low</td>\n",
       "    </tr>\n",
       "    <tr>\n",
       "      <th>19</th>\n",
       "      <td>246</td>\n",
       "      <td>Low</td>\n",
       "    </tr>\n",
       "  </tbody>\n",
       "</table>\n",
       "</div>"
      ],
      "text/plain": [
       "     IC2 ic2_category\n",
       "0    318          Low\n",
       "1   1096         High\n",
       "2    292          Low\n",
       "3    388     Moderate\n",
       "4    250          Low\n",
       "5    410     Moderate\n",
       "6    284          Low\n",
       "7    457     Moderate\n",
       "8    266          Low\n",
       "9    329          Low\n",
       "10   222          Low\n",
       "11   346          Low\n",
       "12   267          Low\n",
       "13   335          Low\n",
       "14   373          Low\n",
       "15   806         High\n",
       "16   385     Moderate\n",
       "17   283          Low\n",
       "18   288          Low\n",
       "19   246          Low"
      ]
     },
     "execution_count": 39,
     "metadata": {},
     "output_type": "execute_result"
    }
   ],
   "source": [
    "ic2_labels = ['Low', 'Moderate', 'High', 'Very High']\n",
    "data['ic2_category'] = pd.cut(data['IC2'],4,labels=ic2_labels)\n",
    "data[['IC2','ic2_category']].head(20)"
   ]
  },
  {
   "cell_type": "code",
   "execution_count": 40,
   "metadata": {
    "colab": {
     "base_uri": "https://localhost:8080/"
    },
    "id": "oXxtH-vGrzgb",
    "outputId": "cb63e5b3-6428-4c3c-cd04-676b1a4663e9"
   },
   "outputs": [
    {
     "data": {
      "text/plain": [
       "Low          50651\n",
       "Moderate     36648\n",
       "High          2766\n",
       "Very High      504\n",
       "Name: ic2_category, dtype: int64"
      ]
     },
     "execution_count": 40,
     "metadata": {},
     "output_type": "execute_result"
    }
   ],
   "source": [
    "data['ic2_category'].value_counts()"
   ]
  },
  {
   "cell_type": "code",
   "execution_count": 42,
   "metadata": {
    "colab": {
     "base_uri": "https://localhost:8080/",
     "height": 224
    },
    "id": "d6lcUY0xr9O-",
    "outputId": "35905361-9bb5-4a85-b886-df647ddbd528"
   },
   "outputs": [
    {
     "data": {
      "text/html": [
       "<div>\n",
       "<style scoped>\n",
       "    .dataframe tbody tr th:only-of-type {\n",
       "        vertical-align: middle;\n",
       "    }\n",
       "\n",
       "    .dataframe tbody tr th {\n",
       "        vertical-align: top;\n",
       "    }\n",
       "\n",
       "    .dataframe thead th {\n",
       "        text-align: right;\n",
       "    }\n",
       "</style>\n",
       "<table border=\"1\" class=\"dataframe\">\n",
       "  <thead>\n",
       "    <tr style=\"text-align: right;\">\n",
       "      <th></th>\n",
       "      <th>IC2</th>\n",
       "      <th>ic2_category_quartiles</th>\n",
       "    </tr>\n",
       "  </thead>\n",
       "  <tbody>\n",
       "    <tr>\n",
       "      <th>0</th>\n",
       "      <td>318</td>\n",
       "      <td>Moderate</td>\n",
       "    </tr>\n",
       "    <tr>\n",
       "      <th>1</th>\n",
       "      <td>1096</td>\n",
       "      <td>Very High</td>\n",
       "    </tr>\n",
       "    <tr>\n",
       "      <th>2</th>\n",
       "      <td>292</td>\n",
       "      <td>Moderate</td>\n",
       "    </tr>\n",
       "    <tr>\n",
       "      <th>3</th>\n",
       "      <td>388</td>\n",
       "      <td>High</td>\n",
       "    </tr>\n",
       "    <tr>\n",
       "      <th>4</th>\n",
       "      <td>250</td>\n",
       "      <td>Low</td>\n",
       "    </tr>\n",
       "    <tr>\n",
       "      <th>5</th>\n",
       "      <td>410</td>\n",
       "      <td>High</td>\n",
       "    </tr>\n",
       "    <tr>\n",
       "      <th>6</th>\n",
       "      <td>284</td>\n",
       "      <td>Moderate</td>\n",
       "    </tr>\n",
       "    <tr>\n",
       "      <th>7</th>\n",
       "      <td>457</td>\n",
       "      <td>High</td>\n",
       "    </tr>\n",
       "    <tr>\n",
       "      <th>8</th>\n",
       "      <td>266</td>\n",
       "      <td>Low</td>\n",
       "    </tr>\n",
       "    <tr>\n",
       "      <th>9</th>\n",
       "      <td>329</td>\n",
       "      <td>Moderate</td>\n",
       "    </tr>\n",
       "    <tr>\n",
       "      <th>10</th>\n",
       "      <td>222</td>\n",
       "      <td>Low</td>\n",
       "    </tr>\n",
       "    <tr>\n",
       "      <th>11</th>\n",
       "      <td>346</td>\n",
       "      <td>Moderate</td>\n",
       "    </tr>\n",
       "    <tr>\n",
       "      <th>12</th>\n",
       "      <td>267</td>\n",
       "      <td>Low</td>\n",
       "    </tr>\n",
       "    <tr>\n",
       "      <th>13</th>\n",
       "      <td>335</td>\n",
       "      <td>Moderate</td>\n",
       "    </tr>\n",
       "    <tr>\n",
       "      <th>14</th>\n",
       "      <td>373</td>\n",
       "      <td>High</td>\n",
       "    </tr>\n",
       "    <tr>\n",
       "      <th>15</th>\n",
       "      <td>806</td>\n",
       "      <td>Very High</td>\n",
       "    </tr>\n",
       "    <tr>\n",
       "      <th>16</th>\n",
       "      <td>385</td>\n",
       "      <td>High</td>\n",
       "    </tr>\n",
       "    <tr>\n",
       "      <th>17</th>\n",
       "      <td>283</td>\n",
       "      <td>Moderate</td>\n",
       "    </tr>\n",
       "    <tr>\n",
       "      <th>18</th>\n",
       "      <td>288</td>\n",
       "      <td>Moderate</td>\n",
       "    </tr>\n",
       "    <tr>\n",
       "      <th>19</th>\n",
       "      <td>246</td>\n",
       "      <td>Low</td>\n",
       "    </tr>\n",
       "  </tbody>\n",
       "</table>\n",
       "</div>"
      ],
      "text/plain": [
       "     IC2 ic2_category_quartiles\n",
       "0    318               Moderate\n",
       "1   1096              Very High\n",
       "2    292               Moderate\n",
       "3    388                   High\n",
       "4    250                    Low\n",
       "5    410                   High\n",
       "6    284               Moderate\n",
       "7    457                   High\n",
       "8    266                    Low\n",
       "9    329               Moderate\n",
       "10   222                    Low\n",
       "11   346               Moderate\n",
       "12   267                    Low\n",
       "13   335               Moderate\n",
       "14   373                   High\n",
       "15   806              Very High\n",
       "16   385                   High\n",
       "17   283               Moderate\n",
       "18   288               Moderate\n",
       "19   246                    Low"
      ]
     },
     "execution_count": 42,
     "metadata": {},
     "output_type": "execute_result"
    }
   ],
   "source": [
    "ic2_labels = ['Low', 'Moderate', 'High', 'Very High']\n",
    "data['ic2_category_quartiles'] = pd.qcut(data['IC2'],4,labels=ic2_labels)\n",
    "data[['IC2','ic2_category_quartiles']].head(20)"
   ]
  },
  {
   "cell_type": "code",
   "execution_count": 43,
   "metadata": {
    "colab": {
     "base_uri": "https://localhost:8080/"
    },
    "id": "nQxkjpO8sKqL",
    "outputId": "2d7a542b-9dc4-477c-e7a7-18114f343e9a",
    "scrolled": true
   },
   "outputs": [
    {
     "data": {
      "text/plain": [
       "Low          22745\n",
       "Moderate     22718\n",
       "Very High    22594\n",
       "High         22512\n",
       "Name: ic2_category_quartiles, dtype: int64"
      ]
     },
     "execution_count": 43,
     "metadata": {},
     "output_type": "execute_result"
    }
   ],
   "source": [
    "data['ic2_category_quartiles'].value_counts()"
   ]
  },
  {
   "cell_type": "markdown",
   "metadata": {},
   "source": [
    "### ANother way to do it"
   ]
  },
  {
   "cell_type": "code",
   "execution_count": null,
   "metadata": {
    "colab": {
     "base_uri": "https://localhost:8080/",
     "height": 224
    },
    "id": "nccBceNksOiO",
    "outputId": "7408000f-e2f8-474a-ec9e-54de5ce27a91"
   },
   "outputs": [
    {
     "data": {
      "text/html": [
       "<div>\n",
       "<style scoped>\n",
       "    .dataframe tbody tr th:only-of-type {\n",
       "        vertical-align: middle;\n",
       "    }\n",
       "\n",
       "    .dataframe tbody tr th {\n",
       "        vertical-align: top;\n",
       "    }\n",
       "\n",
       "    .dataframe thead th {\n",
       "        text-align: right;\n",
       "    }\n",
       "</style>\n",
       "<table border=\"1\" class=\"dataframe\">\n",
       "  <thead>\n",
       "    <tr style=\"text-align: right;\">\n",
       "      <th></th>\n",
       "      <th>IC2</th>\n",
       "      <th>ic2_category_userdef</th>\n",
       "    </tr>\n",
       "  </thead>\n",
       "  <tbody>\n",
       "    <tr>\n",
       "      <th>0</th>\n",
       "      <td>318</td>\n",
       "      <td>Moderate</td>\n",
       "    </tr>\n",
       "    <tr>\n",
       "      <th>1</th>\n",
       "      <td>1096</td>\n",
       "      <td>Very High</td>\n",
       "    </tr>\n",
       "    <tr>\n",
       "      <th>2</th>\n",
       "      <td>292</td>\n",
       "      <td>Low</td>\n",
       "    </tr>\n",
       "    <tr>\n",
       "      <th>3</th>\n",
       "      <td>388</td>\n",
       "      <td>Moderate</td>\n",
       "    </tr>\n",
       "    <tr>\n",
       "      <th>4</th>\n",
       "      <td>250</td>\n",
       "      <td>Low</td>\n",
       "    </tr>\n",
       "    <tr>\n",
       "      <th>5</th>\n",
       "      <td>410</td>\n",
       "      <td>Moderate</td>\n",
       "    </tr>\n",
       "    <tr>\n",
       "      <th>6</th>\n",
       "      <td>284</td>\n",
       "      <td>Low</td>\n",
       "    </tr>\n",
       "    <tr>\n",
       "      <th>7</th>\n",
       "      <td>457</td>\n",
       "      <td>Moderate</td>\n",
       "    </tr>\n",
       "    <tr>\n",
       "      <th>8</th>\n",
       "      <td>266</td>\n",
       "      <td>Low</td>\n",
       "    </tr>\n",
       "    <tr>\n",
       "      <th>9</th>\n",
       "      <td>329</td>\n",
       "      <td>Moderate</td>\n",
       "    </tr>\n",
       "    <tr>\n",
       "      <th>10</th>\n",
       "      <td>222</td>\n",
       "      <td>Low</td>\n",
       "    </tr>\n",
       "    <tr>\n",
       "      <th>11</th>\n",
       "      <td>346</td>\n",
       "      <td>Moderate</td>\n",
       "    </tr>\n",
       "    <tr>\n",
       "      <th>12</th>\n",
       "      <td>267</td>\n",
       "      <td>Low</td>\n",
       "    </tr>\n",
       "    <tr>\n",
       "      <th>13</th>\n",
       "      <td>335</td>\n",
       "      <td>Moderate</td>\n",
       "    </tr>\n",
       "    <tr>\n",
       "      <th>14</th>\n",
       "      <td>373</td>\n",
       "      <td>Moderate</td>\n",
       "    </tr>\n",
       "    <tr>\n",
       "      <th>15</th>\n",
       "      <td>806</td>\n",
       "      <td>High</td>\n",
       "    </tr>\n",
       "    <tr>\n",
       "      <th>16</th>\n",
       "      <td>385</td>\n",
       "      <td>Moderate</td>\n",
       "    </tr>\n",
       "    <tr>\n",
       "      <th>17</th>\n",
       "      <td>283</td>\n",
       "      <td>Low</td>\n",
       "    </tr>\n",
       "    <tr>\n",
       "      <th>18</th>\n",
       "      <td>288</td>\n",
       "      <td>Low</td>\n",
       "    </tr>\n",
       "    <tr>\n",
       "      <th>19</th>\n",
       "      <td>246</td>\n",
       "      <td>Low</td>\n",
       "    </tr>\n",
       "  </tbody>\n",
       "</table>\n",
       "</div>"
      ],
      "text/plain": [
       "     IC2 ic2_category_userdef\n",
       "0    318             Moderate\n",
       "1   1096            Very High\n",
       "2    292                  Low\n",
       "3    388             Moderate\n",
       "4    250                  Low\n",
       "5    410             Moderate\n",
       "6    284                  Low\n",
       "7    457             Moderate\n",
       "8    266                  Low\n",
       "9    329             Moderate\n",
       "10   222                  Low\n",
       "11   346             Moderate\n",
       "12   267                  Low\n",
       "13   335             Moderate\n",
       "14   373             Moderate\n",
       "15   806                 High\n",
       "16   385             Moderate\n",
       "17   283                  Low\n",
       "18   288                  Low\n",
       "19   246                  Low"
      ]
     },
     "execution_count": 37,
     "metadata": {},
     "output_type": "execute_result"
    }
   ],
   "source": [
    "#ic2_labels = ['Low', 'Moderate', 'High', 'Very High']\n",
    "#data['ic2_category_userdef'] = pd.cut(data['IC2'],[0,300,500,1000,10000],labels=ic2_labels)\n",
    "#data[['IC2','ic2_category_userdef']].head(20)"
   ]
  },
  {
   "cell_type": "code",
   "execution_count": null,
   "metadata": {
    "colab": {
     "base_uri": "https://localhost:8080/"
    },
    "id": "GZ4VRPpnsYu7",
    "outputId": "7225b962-f1a5-4d9c-cfa5-d61f01bb3882"
   },
   "outputs": [
    {
     "data": {
      "text/plain": [
       "Moderate     42839\n",
       "Low          29197\n",
       "High         16688\n",
       "Very High      953\n",
       "Name: ic2_category_userdef, dtype: int64"
      ]
     },
     "execution_count": 38,
     "metadata": {},
     "output_type": "execute_result"
    }
   ],
   "source": [
    "#data['ic2_category_userdef'].value_counts()"
   ]
  },
  {
   "cell_type": "code",
   "execution_count": null,
   "metadata": {
    "id": "8ganUFrTnw7S",
    "outputId": "a48bc434-95e3-4f52-b868-330944d9acd4"
   },
   "outputs": [
    {
     "data": {
      "text/plain": [
       "0.08789966545839684"
      ]
     },
     "execution_count": 39,
     "metadata": {},
     "output_type": "execute_result"
    }
   ],
   "source": [
    "# but if we have a categorical variable, it becomes harder to look at 'correlation' with the target;\n",
    "# for a numerical one we can do\n",
    "data.IC2.corr(data.AVGGIFT)"
   ]
  },
  {
   "cell_type": "code",
   "execution_count": null,
   "metadata": {
    "id": "KQaE7jBknw7S",
    "outputId": "cbc0b3fd-4a8a-4091-e913-37ff2d9afe77"
   },
   "outputs": [
    {
     "data": {
      "image/png": "[encoded data removed]",
      "text/plain": [
       "<Figure size 432x288 with 1 Axes>"
      ]
     },
     "metadata": {
      "needs_background": "light"
     },
     "output_type": "display_data"
    }
   ],
   "source": [
    "# for categorical variables we can plot the relation, like this:\n",
    "sns.boxplot(x=\"ic2_category\", y=data.AVGGIFT, data=data)\n",
    "plt.show()"
   ]
  },
  {
   "cell_type": "code",
   "execution_count": null,
   "metadata": {
    "id": "t3CVVtEbsxQD",
    "outputId": "f61317d4-9466-4d45-d229-95d9c3071196"
   },
   "outputs": [
    {
     "data": {
      "image/png": "[encoded data removed]",
      "text/plain": [
       "<Figure size 432x288 with 1 Axes>"
      ]
     },
     "metadata": {
      "needs_background": "light"
     },
     "output_type": "display_data"
    }
   ],
   "source": [
    "# limiting the plot to AVGGIFT values of less than 150, to make the effect more visible:\n",
    "sns.boxplot(x=\"ic2_category\", y=np.where(data.AVGGIFT>150,150,data.AVGGIFT), data=data)\n",
    "plt.show()"
   ]
  },
  {
   "cell_type": "code",
   "execution_count": null,
   "metadata": {
    "id": "FI-eJtdpnw7S",
    "outputId": "0b9a630f-a1b2-4ffe-ebf9-cf55289d463a"
   },
   "outputs": [
    {
     "data": {
      "image/png": "[encoded data removed]",
      "text/plain": [
       "<Figure size 432x288 with 1 Axes>"
      ]
     },
     "metadata": {
      "needs_background": "light"
     },
     "output_type": "display_data"
    }
   ],
   "source": [
    "sns.boxplot(x=\"ic2_category_quartiles\", y=np.where(data.AVGGIFT>150,150,data.AVGGIFT), data=data)\n",
    "plt.show()"
   ]
  },
  {
   "cell_type": "code",
   "execution_count": null,
   "metadata": {
    "id": "vE-GO60nnw7S",
    "outputId": "e20a28aa-a609-4ae5-ea78-e374819f57c7"
   },
   "outputs": [
    {
     "data": {
      "image/png": "[encoded data removed]",
      "text/plain": [
       "<Figure size 432x288 with 1 Axes>"
      ]
     },
     "metadata": {
      "needs_background": "light"
     },
     "output_type": "display_data"
    }
   ],
   "source": [
    "sns.boxplot(x=\"ic2_category_userdef\", y=np.where(data.AVGGIFT>150,150,data.AVGGIFT), data=data)\n",
    "plt.show()"
   ]
  },
  {
   "cell_type": "code",
   "execution_count": null,
   "metadata": {
    "id": "nRc-qyDdnw7S",
    "outputId": "129df756-470e-4603-e8c9-c772b0304186"
   },
   "outputs": [
    {
     "data": {
      "text/plain": [
       "0.08789966545839684"
      ]
     },
     "execution_count": 44,
     "metadata": {},
     "output_type": "execute_result"
    }
   ],
   "source": [
    "data['IC2'].corr(data['AVGGIFT']) "
   ]
  },
  {
   "cell_type": "code",
   "execution_count": null,
   "metadata": {
    "id": "Kw5qUkqznw7T"
   },
   "outputs": [],
   "source": [
    "# low numeric correlation, but quite usable as a categorical variable: \n",
    "# Highs and Very Highs are interesting targets"
   ]
  }
 ],
 "metadata": {
  "colab": {
   "provenance": []
  },
  "kernelspec": {
   "display_name": "Python 3 (ipykernel)",
   "language": "python",
   "name": "python3"
  },
  "language_info": {
   "codemirror_mode": {
    "name": "ipython",
    "version": 3
   },
   "file_extension": ".py",
   "mimetype": "text/x-python",
   "name": "python",
   "nbconvert_exporter": "python",
   "pygments_lexer": "ipython3",
   "version": "3.9.13"
  }
 },
 "nbformat": 4,
 "nbformat_minor": 1
}
